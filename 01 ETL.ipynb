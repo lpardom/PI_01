{
 "cells": [
  {
   "cell_type": "code",
   "execution_count": 94,
   "metadata": {},
   "outputs": [],
   "source": [
    "import pandas as pd\n",
    "import ast\n",
    "import numpy as np\n",
    "import matplotlib.pyplot as plt\n",
    "from scipy.stats import zscore\n",
    "from sklearn.preprocessing import MinMaxScaler\n",
    "import json"
   ]
  },
  {
   "cell_type": "markdown",
   "metadata": {},
   "source": [
    "01 EXTRACCION"
   ]
  },
  {
   "cell_type": "markdown",
   "metadata": {},
   "source": [
    "- Leer los archivos movies_dataset y credits los cuales se encuentran en format CSV y cargarlos en un dataframe para cada cual"
   ]
  },
  {
   "cell_type": "code",
   "execution_count": 95,
   "metadata": {},
   "outputs": [
    {
     "name": "stderr",
     "output_type": "stream",
     "text": [
      "C:\\Users\\LP\\AppData\\Local\\Temp\\ipykernel_5900\\3503367866.py:2: DtypeWarning: Columns (10) have mixed types. Specify dtype option on import or set low_memory=False.\n",
      "  df_mov = pd.read_csv(\"movies_dataset.csv\")\n"
     ]
    }
   ],
   "source": [
    "df_cre = pd.read_csv(\"credits.csv\")\n",
    "df_mov = pd.read_csv(\"movies_dataset.csv\")"
   ]
  },
  {
   "cell_type": "markdown",
   "metadata": {},
   "source": [
    "- \"movies_dataset\""
   ]
  },
  {
   "cell_type": "markdown",
   "metadata": {},
   "source": [
    "- Usar .head(3) para leer los 3 primeros registros de cada DF e indentificar las columnas y parte del contenido de cada uno"
   ]
  },
  {
   "cell_type": "code",
   "execution_count": 96,
   "metadata": {},
   "outputs": [
    {
     "data": {
      "text/html": [
       "<div>\n",
       "<style scoped>\n",
       "    .dataframe tbody tr th:only-of-type {\n",
       "        vertical-align: middle;\n",
       "    }\n",
       "\n",
       "    .dataframe tbody tr th {\n",
       "        vertical-align: top;\n",
       "    }\n",
       "\n",
       "    .dataframe thead th {\n",
       "        text-align: right;\n",
       "    }\n",
       "</style>\n",
       "<table border=\"1\" class=\"dataframe\">\n",
       "  <thead>\n",
       "    <tr style=\"text-align: right;\">\n",
       "      <th></th>\n",
       "      <th>adult</th>\n",
       "      <th>belongs_to_collection</th>\n",
       "      <th>budget</th>\n",
       "      <th>genres</th>\n",
       "      <th>homepage</th>\n",
       "      <th>id</th>\n",
       "      <th>imdb_id</th>\n",
       "      <th>original_language</th>\n",
       "      <th>original_title</th>\n",
       "      <th>overview</th>\n",
       "      <th>...</th>\n",
       "      <th>release_date</th>\n",
       "      <th>revenue</th>\n",
       "      <th>runtime</th>\n",
       "      <th>spoken_languages</th>\n",
       "      <th>status</th>\n",
       "      <th>tagline</th>\n",
       "      <th>title</th>\n",
       "      <th>video</th>\n",
       "      <th>vote_average</th>\n",
       "      <th>vote_count</th>\n",
       "    </tr>\n",
       "  </thead>\n",
       "  <tbody>\n",
       "    <tr>\n",
       "      <th>0</th>\n",
       "      <td>False</td>\n",
       "      <td>{'id': 10194, 'name': 'Toy Story Collection', ...</td>\n",
       "      <td>30000000</td>\n",
       "      <td>[{'id': 16, 'name': 'Animation'}, {'id': 35, '...</td>\n",
       "      <td>http://toystory.disney.com/toy-story</td>\n",
       "      <td>862</td>\n",
       "      <td>tt0114709</td>\n",
       "      <td>en</td>\n",
       "      <td>Toy Story</td>\n",
       "      <td>Led by Woody, Andy's toys live happily in his ...</td>\n",
       "      <td>...</td>\n",
       "      <td>1995-10-30</td>\n",
       "      <td>373554033.0</td>\n",
       "      <td>81.0</td>\n",
       "      <td>[{'iso_639_1': 'en', 'name': 'English'}]</td>\n",
       "      <td>Released</td>\n",
       "      <td>NaN</td>\n",
       "      <td>Toy Story</td>\n",
       "      <td>False</td>\n",
       "      <td>7.7</td>\n",
       "      <td>5415.0</td>\n",
       "    </tr>\n",
       "    <tr>\n",
       "      <th>1</th>\n",
       "      <td>False</td>\n",
       "      <td>NaN</td>\n",
       "      <td>65000000</td>\n",
       "      <td>[{'id': 12, 'name': 'Adventure'}, {'id': 14, '...</td>\n",
       "      <td>NaN</td>\n",
       "      <td>8844</td>\n",
       "      <td>tt0113497</td>\n",
       "      <td>en</td>\n",
       "      <td>Jumanji</td>\n",
       "      <td>When siblings Judy and Peter discover an encha...</td>\n",
       "      <td>...</td>\n",
       "      <td>1995-12-15</td>\n",
       "      <td>262797249.0</td>\n",
       "      <td>104.0</td>\n",
       "      <td>[{'iso_639_1': 'en', 'name': 'English'}, {'iso...</td>\n",
       "      <td>Released</td>\n",
       "      <td>Roll the dice and unleash the excitement!</td>\n",
       "      <td>Jumanji</td>\n",
       "      <td>False</td>\n",
       "      <td>6.9</td>\n",
       "      <td>2413.0</td>\n",
       "    </tr>\n",
       "    <tr>\n",
       "      <th>2</th>\n",
       "      <td>False</td>\n",
       "      <td>{'id': 119050, 'name': 'Grumpy Old Men Collect...</td>\n",
       "      <td>0</td>\n",
       "      <td>[{'id': 10749, 'name': 'Romance'}, {'id': 35, ...</td>\n",
       "      <td>NaN</td>\n",
       "      <td>15602</td>\n",
       "      <td>tt0113228</td>\n",
       "      <td>en</td>\n",
       "      <td>Grumpier Old Men</td>\n",
       "      <td>A family wedding reignites the ancient feud be...</td>\n",
       "      <td>...</td>\n",
       "      <td>1995-12-22</td>\n",
       "      <td>0.0</td>\n",
       "      <td>101.0</td>\n",
       "      <td>[{'iso_639_1': 'en', 'name': 'English'}]</td>\n",
       "      <td>Released</td>\n",
       "      <td>Still Yelling. Still Fighting. Still Ready for...</td>\n",
       "      <td>Grumpier Old Men</td>\n",
       "      <td>False</td>\n",
       "      <td>6.5</td>\n",
       "      <td>92.0</td>\n",
       "    </tr>\n",
       "  </tbody>\n",
       "</table>\n",
       "<p>3 rows × 24 columns</p>\n",
       "</div>"
      ],
      "text/plain": [
       "   adult                              belongs_to_collection    budget  \\\n",
       "0  False  {'id': 10194, 'name': 'Toy Story Collection', ...  30000000   \n",
       "1  False                                                NaN  65000000   \n",
       "2  False  {'id': 119050, 'name': 'Grumpy Old Men Collect...         0   \n",
       "\n",
       "                                              genres  \\\n",
       "0  [{'id': 16, 'name': 'Animation'}, {'id': 35, '...   \n",
       "1  [{'id': 12, 'name': 'Adventure'}, {'id': 14, '...   \n",
       "2  [{'id': 10749, 'name': 'Romance'}, {'id': 35, ...   \n",
       "\n",
       "                               homepage     id    imdb_id original_language  \\\n",
       "0  http://toystory.disney.com/toy-story    862  tt0114709                en   \n",
       "1                                   NaN   8844  tt0113497                en   \n",
       "2                                   NaN  15602  tt0113228                en   \n",
       "\n",
       "     original_title                                           overview  ...  \\\n",
       "0         Toy Story  Led by Woody, Andy's toys live happily in his ...  ...   \n",
       "1           Jumanji  When siblings Judy and Peter discover an encha...  ...   \n",
       "2  Grumpier Old Men  A family wedding reignites the ancient feud be...  ...   \n",
       "\n",
       "  release_date      revenue runtime  \\\n",
       "0   1995-10-30  373554033.0    81.0   \n",
       "1   1995-12-15  262797249.0   104.0   \n",
       "2   1995-12-22          0.0   101.0   \n",
       "\n",
       "                                    spoken_languages    status  \\\n",
       "0           [{'iso_639_1': 'en', 'name': 'English'}]  Released   \n",
       "1  [{'iso_639_1': 'en', 'name': 'English'}, {'iso...  Released   \n",
       "2           [{'iso_639_1': 'en', 'name': 'English'}]  Released   \n",
       "\n",
       "                                             tagline             title  video  \\\n",
       "0                                                NaN         Toy Story  False   \n",
       "1          Roll the dice and unleash the excitement!           Jumanji  False   \n",
       "2  Still Yelling. Still Fighting. Still Ready for...  Grumpier Old Men  False   \n",
       "\n",
       "  vote_average vote_count  \n",
       "0          7.7     5415.0  \n",
       "1          6.9     2413.0  \n",
       "2          6.5       92.0  \n",
       "\n",
       "[3 rows x 24 columns]"
      ]
     },
     "execution_count": 96,
     "metadata": {},
     "output_type": "execute_result"
    }
   ],
   "source": [
    "df_mov.head(3)"
   ]
  },
  {
   "cell_type": "code",
   "execution_count": 97,
   "metadata": {},
   "outputs": [
    {
     "data": {
      "text/html": [
       "<div>\n",
       "<style scoped>\n",
       "    .dataframe tbody tr th:only-of-type {\n",
       "        vertical-align: middle;\n",
       "    }\n",
       "\n",
       "    .dataframe tbody tr th {\n",
       "        vertical-align: top;\n",
       "    }\n",
       "\n",
       "    .dataframe thead th {\n",
       "        text-align: right;\n",
       "    }\n",
       "</style>\n",
       "<table border=\"1\" class=\"dataframe\">\n",
       "  <thead>\n",
       "    <tr style=\"text-align: right;\">\n",
       "      <th></th>\n",
       "      <th>cast</th>\n",
       "      <th>crew</th>\n",
       "      <th>id</th>\n",
       "    </tr>\n",
       "  </thead>\n",
       "  <tbody>\n",
       "    <tr>\n",
       "      <th>0</th>\n",
       "      <td>[{'cast_id': 14, 'character': 'Woody (voice)',...</td>\n",
       "      <td>[{'credit_id': '52fe4284c3a36847f8024f49', 'de...</td>\n",
       "      <td>862</td>\n",
       "    </tr>\n",
       "    <tr>\n",
       "      <th>1</th>\n",
       "      <td>[{'cast_id': 1, 'character': 'Alan Parrish', '...</td>\n",
       "      <td>[{'credit_id': '52fe44bfc3a36847f80a7cd1', 'de...</td>\n",
       "      <td>8844</td>\n",
       "    </tr>\n",
       "    <tr>\n",
       "      <th>2</th>\n",
       "      <td>[{'cast_id': 2, 'character': 'Max Goldman', 'c...</td>\n",
       "      <td>[{'credit_id': '52fe466a9251416c75077a89', 'de...</td>\n",
       "      <td>15602</td>\n",
       "    </tr>\n",
       "  </tbody>\n",
       "</table>\n",
       "</div>"
      ],
      "text/plain": [
       "                                                cast  \\\n",
       "0  [{'cast_id': 14, 'character': 'Woody (voice)',...   \n",
       "1  [{'cast_id': 1, 'character': 'Alan Parrish', '...   \n",
       "2  [{'cast_id': 2, 'character': 'Max Goldman', 'c...   \n",
       "\n",
       "                                                crew     id  \n",
       "0  [{'credit_id': '52fe4284c3a36847f8024f49', 'de...    862  \n",
       "1  [{'credit_id': '52fe44bfc3a36847f80a7cd1', 'de...   8844  \n",
       "2  [{'credit_id': '52fe466a9251416c75077a89', 'de...  15602  "
      ]
     },
     "execution_count": 97,
     "metadata": {},
     "output_type": "execute_result"
    }
   ],
   "source": [
    "df_cre.head(3)"
   ]
  },
  {
   "cell_type": "markdown",
   "metadata": {},
   "source": [
    "- De acuerdo a la propuesta de trabajo, procedemos a eliminar las columnas que no serán utilizadas, video,imdb_id,adult,original_title,poster_path y homepage"
   ]
  },
  {
   "cell_type": "code",
   "execution_count": 98,
   "metadata": {},
   "outputs": [],
   "source": [
    "df_mov = df_mov.drop(columns=['video', 'imdb_id', 'adult', 'original_title', 'poster_path', 'homepage'])"
   ]
  },
  {
   "cell_type": "code",
   "execution_count": 99,
   "metadata": {},
   "outputs": [
    {
     "data": {
      "text/html": [
       "<div>\n",
       "<style scoped>\n",
       "    .dataframe tbody tr th:only-of-type {\n",
       "        vertical-align: middle;\n",
       "    }\n",
       "\n",
       "    .dataframe tbody tr th {\n",
       "        vertical-align: top;\n",
       "    }\n",
       "\n",
       "    .dataframe thead th {\n",
       "        text-align: right;\n",
       "    }\n",
       "</style>\n",
       "<table border=\"1\" class=\"dataframe\">\n",
       "  <thead>\n",
       "    <tr style=\"text-align: right;\">\n",
       "      <th></th>\n",
       "      <th>belongs_to_collection</th>\n",
       "      <th>budget</th>\n",
       "      <th>genres</th>\n",
       "      <th>id</th>\n",
       "      <th>original_language</th>\n",
       "      <th>overview</th>\n",
       "      <th>popularity</th>\n",
       "      <th>production_companies</th>\n",
       "      <th>production_countries</th>\n",
       "      <th>release_date</th>\n",
       "      <th>revenue</th>\n",
       "      <th>runtime</th>\n",
       "      <th>spoken_languages</th>\n",
       "      <th>status</th>\n",
       "      <th>tagline</th>\n",
       "      <th>title</th>\n",
       "      <th>vote_average</th>\n",
       "      <th>vote_count</th>\n",
       "    </tr>\n",
       "  </thead>\n",
       "  <tbody>\n",
       "    <tr>\n",
       "      <th>0</th>\n",
       "      <td>{'id': 10194, 'name': 'Toy Story Collection', ...</td>\n",
       "      <td>30000000</td>\n",
       "      <td>[{'id': 16, 'name': 'Animation'}, {'id': 35, '...</td>\n",
       "      <td>862</td>\n",
       "      <td>en</td>\n",
       "      <td>Led by Woody, Andy's toys live happily in his ...</td>\n",
       "      <td>21.946943</td>\n",
       "      <td>[{'name': 'Pixar Animation Studios', 'id': 3}]</td>\n",
       "      <td>[{'iso_3166_1': 'US', 'name': 'United States o...</td>\n",
       "      <td>1995-10-30</td>\n",
       "      <td>373554033.0</td>\n",
       "      <td>81.0</td>\n",
       "      <td>[{'iso_639_1': 'en', 'name': 'English'}]</td>\n",
       "      <td>Released</td>\n",
       "      <td>NaN</td>\n",
       "      <td>Toy Story</td>\n",
       "      <td>7.7</td>\n",
       "      <td>5415.0</td>\n",
       "    </tr>\n",
       "    <tr>\n",
       "      <th>1</th>\n",
       "      <td>NaN</td>\n",
       "      <td>65000000</td>\n",
       "      <td>[{'id': 12, 'name': 'Adventure'}, {'id': 14, '...</td>\n",
       "      <td>8844</td>\n",
       "      <td>en</td>\n",
       "      <td>When siblings Judy and Peter discover an encha...</td>\n",
       "      <td>17.015539</td>\n",
       "      <td>[{'name': 'TriStar Pictures', 'id': 559}, {'na...</td>\n",
       "      <td>[{'iso_3166_1': 'US', 'name': 'United States o...</td>\n",
       "      <td>1995-12-15</td>\n",
       "      <td>262797249.0</td>\n",
       "      <td>104.0</td>\n",
       "      <td>[{'iso_639_1': 'en', 'name': 'English'}, {'iso...</td>\n",
       "      <td>Released</td>\n",
       "      <td>Roll the dice and unleash the excitement!</td>\n",
       "      <td>Jumanji</td>\n",
       "      <td>6.9</td>\n",
       "      <td>2413.0</td>\n",
       "    </tr>\n",
       "    <tr>\n",
       "      <th>2</th>\n",
       "      <td>{'id': 119050, 'name': 'Grumpy Old Men Collect...</td>\n",
       "      <td>0</td>\n",
       "      <td>[{'id': 10749, 'name': 'Romance'}, {'id': 35, ...</td>\n",
       "      <td>15602</td>\n",
       "      <td>en</td>\n",
       "      <td>A family wedding reignites the ancient feud be...</td>\n",
       "      <td>11.7129</td>\n",
       "      <td>[{'name': 'Warner Bros.', 'id': 6194}, {'name'...</td>\n",
       "      <td>[{'iso_3166_1': 'US', 'name': 'United States o...</td>\n",
       "      <td>1995-12-22</td>\n",
       "      <td>0.0</td>\n",
       "      <td>101.0</td>\n",
       "      <td>[{'iso_639_1': 'en', 'name': 'English'}]</td>\n",
       "      <td>Released</td>\n",
       "      <td>Still Yelling. Still Fighting. Still Ready for...</td>\n",
       "      <td>Grumpier Old Men</td>\n",
       "      <td>6.5</td>\n",
       "      <td>92.0</td>\n",
       "    </tr>\n",
       "  </tbody>\n",
       "</table>\n",
       "</div>"
      ],
      "text/plain": [
       "                               belongs_to_collection    budget  \\\n",
       "0  {'id': 10194, 'name': 'Toy Story Collection', ...  30000000   \n",
       "1                                                NaN  65000000   \n",
       "2  {'id': 119050, 'name': 'Grumpy Old Men Collect...         0   \n",
       "\n",
       "                                              genres     id original_language  \\\n",
       "0  [{'id': 16, 'name': 'Animation'}, {'id': 35, '...    862                en   \n",
       "1  [{'id': 12, 'name': 'Adventure'}, {'id': 14, '...   8844                en   \n",
       "2  [{'id': 10749, 'name': 'Romance'}, {'id': 35, ...  15602                en   \n",
       "\n",
       "                                            overview popularity  \\\n",
       "0  Led by Woody, Andy's toys live happily in his ...  21.946943   \n",
       "1  When siblings Judy and Peter discover an encha...  17.015539   \n",
       "2  A family wedding reignites the ancient feud be...    11.7129   \n",
       "\n",
       "                                production_companies  \\\n",
       "0     [{'name': 'Pixar Animation Studios', 'id': 3}]   \n",
       "1  [{'name': 'TriStar Pictures', 'id': 559}, {'na...   \n",
       "2  [{'name': 'Warner Bros.', 'id': 6194}, {'name'...   \n",
       "\n",
       "                                production_countries release_date  \\\n",
       "0  [{'iso_3166_1': 'US', 'name': 'United States o...   1995-10-30   \n",
       "1  [{'iso_3166_1': 'US', 'name': 'United States o...   1995-12-15   \n",
       "2  [{'iso_3166_1': 'US', 'name': 'United States o...   1995-12-22   \n",
       "\n",
       "       revenue  runtime                                   spoken_languages  \\\n",
       "0  373554033.0     81.0           [{'iso_639_1': 'en', 'name': 'English'}]   \n",
       "1  262797249.0    104.0  [{'iso_639_1': 'en', 'name': 'English'}, {'iso...   \n",
       "2          0.0    101.0           [{'iso_639_1': 'en', 'name': 'English'}]   \n",
       "\n",
       "     status                                            tagline  \\\n",
       "0  Released                                                NaN   \n",
       "1  Released          Roll the dice and unleash the excitement!   \n",
       "2  Released  Still Yelling. Still Fighting. Still Ready for...   \n",
       "\n",
       "              title  vote_average  vote_count  \n",
       "0         Toy Story           7.7      5415.0  \n",
       "1           Jumanji           6.9      2413.0  \n",
       "2  Grumpier Old Men           6.5        92.0  "
      ]
     },
     "execution_count": 99,
     "metadata": {},
     "output_type": "execute_result"
    }
   ],
   "source": [
    "df_mov.head(3)"
   ]
  },
  {
   "cell_type": "markdown",
   "metadata": {},
   "source": [
    "- Identificar las columnas anidadas, las cuales son belongs_to_collection, genres, production_companies, production_countries y spoken_languages, revisar cada una"
   ]
  },
  {
   "cell_type": "markdown",
   "metadata": {},
   "source": [
    "belongs_to_collection"
   ]
  },
  {
   "cell_type": "code",
   "execution_count": 100,
   "metadata": {},
   "outputs": [
    {
     "data": {
      "text/html": [
       "<div>\n",
       "<style scoped>\n",
       "    .dataframe tbody tr th:only-of-type {\n",
       "        vertical-align: middle;\n",
       "    }\n",
       "\n",
       "    .dataframe tbody tr th {\n",
       "        vertical-align: top;\n",
       "    }\n",
       "\n",
       "    .dataframe thead th {\n",
       "        text-align: right;\n",
       "    }\n",
       "</style>\n",
       "<table border=\"1\" class=\"dataframe\">\n",
       "  <thead>\n",
       "    <tr style=\"text-align: right;\">\n",
       "      <th></th>\n",
       "      <th>belongs_to_collection</th>\n",
       "    </tr>\n",
       "  </thead>\n",
       "  <tbody>\n",
       "    <tr>\n",
       "      <th>0</th>\n",
       "      <td>{'id': 10194, 'name': 'Toy Story Collection', ...</td>\n",
       "    </tr>\n",
       "    <tr>\n",
       "      <th>1</th>\n",
       "      <td>NaN</td>\n",
       "    </tr>\n",
       "    <tr>\n",
       "      <th>2</th>\n",
       "      <td>{'id': 119050, 'name': 'Grumpy Old Men Collect...</td>\n",
       "    </tr>\n",
       "    <tr>\n",
       "      <th>3</th>\n",
       "      <td>NaN</td>\n",
       "    </tr>\n",
       "    <tr>\n",
       "      <th>4</th>\n",
       "      <td>{'id': 96871, 'name': 'Father of the Bride Col...</td>\n",
       "    </tr>\n",
       "  </tbody>\n",
       "</table>\n",
       "</div>"
      ],
      "text/plain": [
       "                               belongs_to_collection\n",
       "0  {'id': 10194, 'name': 'Toy Story Collection', ...\n",
       "1                                                NaN\n",
       "2  {'id': 119050, 'name': 'Grumpy Old Men Collect...\n",
       "3                                                NaN\n",
       "4  {'id': 96871, 'name': 'Father of the Bride Col..."
      ]
     },
     "execution_count": 100,
     "metadata": {},
     "output_type": "execute_result"
    }
   ],
   "source": [
    "df_mov[['belongs_to_collection']].head()"
   ]
  },
  {
   "cell_type": "markdown",
   "metadata": {},
   "source": [
    "- Revisar el contenido"
   ]
  },
  {
   "cell_type": "code",
   "execution_count": 101,
   "metadata": {},
   "outputs": [
    {
     "data": {
      "text/plain": [
       "\"{'id': 10194, 'name': 'Toy Story Collection', 'poster_path': '/7G9915LfUQ2lVfwMEEhDsn3kT4B.jpg', 'backdrop_path': '/9FBwqcd9IRruEDUrTdcaafOMKUq.jpg'}\""
      ]
     },
     "execution_count": 101,
     "metadata": {},
     "output_type": "execute_result"
    }
   ],
   "source": [
    "df_mov['belongs_to_collection'].iloc[0]"
   ]
  },
  {
   "cell_type": "markdown",
   "metadata": {},
   "source": [
    "- Identificar el tipo"
   ]
  },
  {
   "cell_type": "code",
   "execution_count": 102,
   "metadata": {},
   "outputs": [
    {
     "data": {
      "text/plain": [
       "str"
      ]
     },
     "execution_count": 102,
     "metadata": {},
     "output_type": "execute_result"
    }
   ],
   "source": [
    "type(df_mov['belongs_to_collection'].iloc[0])"
   ]
  },
  {
   "cell_type": "markdown",
   "metadata": {},
   "source": [
    "- Al ser una cadena de texto, debemos convertir a dicionario para poder trabajarlo"
   ]
  },
  {
   "cell_type": "code",
   "execution_count": 103,
   "metadata": {},
   "outputs": [],
   "source": [
    "df_mov['belongs_to_collection'] = df_mov['belongs_to_collection'].apply(\n",
    "    lambda x: ast.literal_eval(x) if isinstance(x, str) else None\n",
    ")"
   ]
  },
  {
   "cell_type": "code",
   "execution_count": 104,
   "metadata": {},
   "outputs": [],
   "source": [
    "belongs_to_collection_df = df_mov['belongs_to_collection'].apply(pd.Series)"
   ]
  },
  {
   "cell_type": "code",
   "execution_count": 105,
   "metadata": {},
   "outputs": [
    {
     "data": {
      "text/html": [
       "<div>\n",
       "<style scoped>\n",
       "    .dataframe tbody tr th:only-of-type {\n",
       "        vertical-align: middle;\n",
       "    }\n",
       "\n",
       "    .dataframe tbody tr th {\n",
       "        vertical-align: top;\n",
       "    }\n",
       "\n",
       "    .dataframe thead th {\n",
       "        text-align: right;\n",
       "    }\n",
       "</style>\n",
       "<table border=\"1\" class=\"dataframe\">\n",
       "  <thead>\n",
       "    <tr style=\"text-align: right;\">\n",
       "      <th></th>\n",
       "      <th>id</th>\n",
       "      <th>name</th>\n",
       "      <th>poster_path</th>\n",
       "      <th>backdrop_path</th>\n",
       "      <th>0</th>\n",
       "    </tr>\n",
       "  </thead>\n",
       "  <tbody>\n",
       "    <tr>\n",
       "      <th>0</th>\n",
       "      <td>10194.0</td>\n",
       "      <td>Toy Story Collection</td>\n",
       "      <td>/7G9915LfUQ2lVfwMEEhDsn3kT4B.jpg</td>\n",
       "      <td>/9FBwqcd9IRruEDUrTdcaafOMKUq.jpg</td>\n",
       "      <td>NaN</td>\n",
       "    </tr>\n",
       "    <tr>\n",
       "      <th>1</th>\n",
       "      <td>NaN</td>\n",
       "      <td>NaN</td>\n",
       "      <td>NaN</td>\n",
       "      <td>NaN</td>\n",
       "      <td>NaN</td>\n",
       "    </tr>\n",
       "    <tr>\n",
       "      <th>2</th>\n",
       "      <td>119050.0</td>\n",
       "      <td>Grumpy Old Men Collection</td>\n",
       "      <td>/nLvUdqgPgm3F85NMCii9gVFUcet.jpg</td>\n",
       "      <td>/hypTnLot2z8wpFS7qwsQHW1uV8u.jpg</td>\n",
       "      <td>NaN</td>\n",
       "    </tr>\n",
       "    <tr>\n",
       "      <th>3</th>\n",
       "      <td>NaN</td>\n",
       "      <td>NaN</td>\n",
       "      <td>NaN</td>\n",
       "      <td>NaN</td>\n",
       "      <td>NaN</td>\n",
       "    </tr>\n",
       "    <tr>\n",
       "      <th>4</th>\n",
       "      <td>96871.0</td>\n",
       "      <td>Father of the Bride Collection</td>\n",
       "      <td>/nts4iOmNnq7GNicycMJ9pSAn204.jpg</td>\n",
       "      <td>/7qwE57OVZmMJChBpLEbJEmzUydk.jpg</td>\n",
       "      <td>NaN</td>\n",
       "    </tr>\n",
       "    <tr>\n",
       "      <th>...</th>\n",
       "      <td>...</td>\n",
       "      <td>...</td>\n",
       "      <td>...</td>\n",
       "      <td>...</td>\n",
       "      <td>...</td>\n",
       "    </tr>\n",
       "    <tr>\n",
       "      <th>45461</th>\n",
       "      <td>NaN</td>\n",
       "      <td>NaN</td>\n",
       "      <td>NaN</td>\n",
       "      <td>NaN</td>\n",
       "      <td>NaN</td>\n",
       "    </tr>\n",
       "    <tr>\n",
       "      <th>45462</th>\n",
       "      <td>NaN</td>\n",
       "      <td>NaN</td>\n",
       "      <td>NaN</td>\n",
       "      <td>NaN</td>\n",
       "      <td>NaN</td>\n",
       "    </tr>\n",
       "    <tr>\n",
       "      <th>45463</th>\n",
       "      <td>NaN</td>\n",
       "      <td>NaN</td>\n",
       "      <td>NaN</td>\n",
       "      <td>NaN</td>\n",
       "      <td>NaN</td>\n",
       "    </tr>\n",
       "    <tr>\n",
       "      <th>45464</th>\n",
       "      <td>NaN</td>\n",
       "      <td>NaN</td>\n",
       "      <td>NaN</td>\n",
       "      <td>NaN</td>\n",
       "      <td>NaN</td>\n",
       "    </tr>\n",
       "    <tr>\n",
       "      <th>45465</th>\n",
       "      <td>NaN</td>\n",
       "      <td>NaN</td>\n",
       "      <td>NaN</td>\n",
       "      <td>NaN</td>\n",
       "      <td>NaN</td>\n",
       "    </tr>\n",
       "  </tbody>\n",
       "</table>\n",
       "<p>45466 rows × 5 columns</p>\n",
       "</div>"
      ],
      "text/plain": [
       "             id                            name  \\\n",
       "0       10194.0            Toy Story Collection   \n",
       "1           NaN                             NaN   \n",
       "2      119050.0       Grumpy Old Men Collection   \n",
       "3           NaN                             NaN   \n",
       "4       96871.0  Father of the Bride Collection   \n",
       "...         ...                             ...   \n",
       "45461       NaN                             NaN   \n",
       "45462       NaN                             NaN   \n",
       "45463       NaN                             NaN   \n",
       "45464       NaN                             NaN   \n",
       "45465       NaN                             NaN   \n",
       "\n",
       "                            poster_path                     backdrop_path   0  \n",
       "0      /7G9915LfUQ2lVfwMEEhDsn3kT4B.jpg  /9FBwqcd9IRruEDUrTdcaafOMKUq.jpg NaN  \n",
       "1                                   NaN                               NaN NaN  \n",
       "2      /nLvUdqgPgm3F85NMCii9gVFUcet.jpg  /hypTnLot2z8wpFS7qwsQHW1uV8u.jpg NaN  \n",
       "3                                   NaN                               NaN NaN  \n",
       "4      /nts4iOmNnq7GNicycMJ9pSAn204.jpg  /7qwE57OVZmMJChBpLEbJEmzUydk.jpg NaN  \n",
       "...                                 ...                               ...  ..  \n",
       "45461                               NaN                               NaN NaN  \n",
       "45462                               NaN                               NaN NaN  \n",
       "45463                               NaN                               NaN NaN  \n",
       "45464                               NaN                               NaN NaN  \n",
       "45465                               NaN                               NaN NaN  \n",
       "\n",
       "[45466 rows x 5 columns]"
      ]
     },
     "execution_count": 105,
     "metadata": {},
     "output_type": "execute_result"
    }
   ],
   "source": [
    "belongs_to_collection_df"
   ]
  },
  {
   "cell_type": "markdown",
   "metadata": {},
   "source": [
    "- Nos quedamos solo con las columna name, pues creo que no sera necesario el resto"
   ]
  },
  {
   "cell_type": "code",
   "execution_count": 106,
   "metadata": {},
   "outputs": [],
   "source": [
    "belongs_to_collection_df = belongs_to_collection_df.rename(\n",
    "    columns={        \n",
    "        'name': 'collection_name'        \n",
    "    }\n",
    ")"
   ]
  },
  {
   "cell_type": "code",
   "execution_count": 107,
   "metadata": {},
   "outputs": [],
   "source": [
    "df_mov = pd.concat([df_mov, belongs_to_collection_df[['collection_name']]], axis=1)\n",
    "df_mov = df_mov.drop(columns=['belongs_to_collection'])"
   ]
  },
  {
   "cell_type": "code",
   "execution_count": 108,
   "metadata": {},
   "outputs": [
    {
     "data": {
      "text/plain": [
       "Index(['budget', 'genres', 'id', 'original_language', 'overview', 'popularity',\n",
       "       'production_companies', 'production_countries', 'release_date',\n",
       "       'revenue', 'runtime', 'spoken_languages', 'status', 'tagline', 'title',\n",
       "       'vote_average', 'vote_count', 'collection_name'],\n",
       "      dtype='object')"
      ]
     },
     "execution_count": 108,
     "metadata": {},
     "output_type": "execute_result"
    }
   ],
   "source": [
    "df_mov.columns"
   ]
  },
  {
   "cell_type": "markdown",
   "metadata": {},
   "source": [
    "genres"
   ]
  },
  {
   "cell_type": "code",
   "execution_count": 109,
   "metadata": {},
   "outputs": [
    {
     "data": {
      "text/plain": [
       "<bound method NDFrame.head of                                                   genres\n",
       "0      [{'id': 16, 'name': 'Animation'}, {'id': 35, '...\n",
       "1      [{'id': 12, 'name': 'Adventure'}, {'id': 14, '...\n",
       "2      [{'id': 10749, 'name': 'Romance'}, {'id': 35, ...\n",
       "3      [{'id': 35, 'name': 'Comedy'}, {'id': 18, 'nam...\n",
       "4                         [{'id': 35, 'name': 'Comedy'}]\n",
       "...                                                  ...\n",
       "45461  [{'id': 18, 'name': 'Drama'}, {'id': 10751, 'n...\n",
       "45462                      [{'id': 18, 'name': 'Drama'}]\n",
       "45463  [{'id': 28, 'name': 'Action'}, {'id': 18, 'nam...\n",
       "45464                                                 []\n",
       "45465                                                 []\n",
       "\n",
       "[45466 rows x 1 columns]>"
      ]
     },
     "execution_count": 109,
     "metadata": {},
     "output_type": "execute_result"
    }
   ],
   "source": [
    "df_mov[['genres']].head"
   ]
  },
  {
   "cell_type": "markdown",
   "metadata": {},
   "source": [
    "- Revisar el contenido"
   ]
  },
  {
   "cell_type": "code",
   "execution_count": 110,
   "metadata": {},
   "outputs": [
    {
     "data": {
      "text/plain": [
       "\"[{'id': 16, 'name': 'Animation'}, {'id': 35, 'name': 'Comedy'}, {'id': 10751, 'name': 'Family'}]\""
      ]
     },
     "execution_count": 110,
     "metadata": {},
     "output_type": "execute_result"
    }
   ],
   "source": [
    "df_mov['genres'].iloc[0]"
   ]
  },
  {
   "cell_type": "markdown",
   "metadata": {},
   "source": [
    "- Identificar el contenido"
   ]
  },
  {
   "cell_type": "code",
   "execution_count": 111,
   "metadata": {},
   "outputs": [
    {
     "data": {
      "text/plain": [
       "str"
      ]
     },
     "execution_count": 111,
     "metadata": {},
     "output_type": "execute_result"
    }
   ],
   "source": [
    "type(df_mov['genres'].iloc[0])"
   ]
  },
  {
   "cell_type": "markdown",
   "metadata": {},
   "source": [
    "- Al ser de tipo texto las pasamos a diccionario para poder trabajar"
   ]
  },
  {
   "cell_type": "code",
   "execution_count": 112,
   "metadata": {},
   "outputs": [],
   "source": [
    "df_mov['genres'] = df_mov['genres'].apply(\n",
    "    lambda x: ast.literal_eval(x) if pd.notna(x) else []\n",
    ")"
   ]
  },
  {
   "cell_type": "markdown",
   "metadata": {},
   "source": [
    "- Agregamos los generos como una nueva columna y eliminamos la original"
   ]
  },
  {
   "cell_type": "code",
   "execution_count": 113,
   "metadata": {},
   "outputs": [],
   "source": [
    "df_mov['genre_names'] = df_mov['genres'].apply(\n",
    "    lambda x: [genre['name'] for genre in x if isinstance(genre, dict)]\n",
    ")\n",
    "\n",
    "df_mov = df_mov.drop(columns=['genres'])"
   ]
  },
  {
   "cell_type": "code",
   "execution_count": 114,
   "metadata": {},
   "outputs": [
    {
     "data": {
      "text/html": [
       "<div>\n",
       "<style scoped>\n",
       "    .dataframe tbody tr th:only-of-type {\n",
       "        vertical-align: middle;\n",
       "    }\n",
       "\n",
       "    .dataframe tbody tr th {\n",
       "        vertical-align: top;\n",
       "    }\n",
       "\n",
       "    .dataframe thead th {\n",
       "        text-align: right;\n",
       "    }\n",
       "</style>\n",
       "<table border=\"1\" class=\"dataframe\">\n",
       "  <thead>\n",
       "    <tr style=\"text-align: right;\">\n",
       "      <th></th>\n",
       "      <th>budget</th>\n",
       "      <th>id</th>\n",
       "      <th>original_language</th>\n",
       "      <th>overview</th>\n",
       "      <th>popularity</th>\n",
       "      <th>production_companies</th>\n",
       "      <th>production_countries</th>\n",
       "      <th>release_date</th>\n",
       "      <th>revenue</th>\n",
       "      <th>runtime</th>\n",
       "      <th>spoken_languages</th>\n",
       "      <th>status</th>\n",
       "      <th>tagline</th>\n",
       "      <th>title</th>\n",
       "      <th>vote_average</th>\n",
       "      <th>vote_count</th>\n",
       "      <th>collection_name</th>\n",
       "      <th>genre_names</th>\n",
       "    </tr>\n",
       "  </thead>\n",
       "  <tbody>\n",
       "    <tr>\n",
       "      <th>0</th>\n",
       "      <td>30000000</td>\n",
       "      <td>862</td>\n",
       "      <td>en</td>\n",
       "      <td>Led by Woody, Andy's toys live happily in his ...</td>\n",
       "      <td>21.946943</td>\n",
       "      <td>[{'name': 'Pixar Animation Studios', 'id': 3}]</td>\n",
       "      <td>[{'iso_3166_1': 'US', 'name': 'United States o...</td>\n",
       "      <td>1995-10-30</td>\n",
       "      <td>373554033.0</td>\n",
       "      <td>81.0</td>\n",
       "      <td>[{'iso_639_1': 'en', 'name': 'English'}]</td>\n",
       "      <td>Released</td>\n",
       "      <td>NaN</td>\n",
       "      <td>Toy Story</td>\n",
       "      <td>7.7</td>\n",
       "      <td>5415.0</td>\n",
       "      <td>Toy Story Collection</td>\n",
       "      <td>[Animation, Comedy, Family]</td>\n",
       "    </tr>\n",
       "    <tr>\n",
       "      <th>1</th>\n",
       "      <td>65000000</td>\n",
       "      <td>8844</td>\n",
       "      <td>en</td>\n",
       "      <td>When siblings Judy and Peter discover an encha...</td>\n",
       "      <td>17.015539</td>\n",
       "      <td>[{'name': 'TriStar Pictures', 'id': 559}, {'na...</td>\n",
       "      <td>[{'iso_3166_1': 'US', 'name': 'United States o...</td>\n",
       "      <td>1995-12-15</td>\n",
       "      <td>262797249.0</td>\n",
       "      <td>104.0</td>\n",
       "      <td>[{'iso_639_1': 'en', 'name': 'English'}, {'iso...</td>\n",
       "      <td>Released</td>\n",
       "      <td>Roll the dice and unleash the excitement!</td>\n",
       "      <td>Jumanji</td>\n",
       "      <td>6.9</td>\n",
       "      <td>2413.0</td>\n",
       "      <td>NaN</td>\n",
       "      <td>[Adventure, Fantasy, Family]</td>\n",
       "    </tr>\n",
       "    <tr>\n",
       "      <th>2</th>\n",
       "      <td>0</td>\n",
       "      <td>15602</td>\n",
       "      <td>en</td>\n",
       "      <td>A family wedding reignites the ancient feud be...</td>\n",
       "      <td>11.7129</td>\n",
       "      <td>[{'name': 'Warner Bros.', 'id': 6194}, {'name'...</td>\n",
       "      <td>[{'iso_3166_1': 'US', 'name': 'United States o...</td>\n",
       "      <td>1995-12-22</td>\n",
       "      <td>0.0</td>\n",
       "      <td>101.0</td>\n",
       "      <td>[{'iso_639_1': 'en', 'name': 'English'}]</td>\n",
       "      <td>Released</td>\n",
       "      <td>Still Yelling. Still Fighting. Still Ready for...</td>\n",
       "      <td>Grumpier Old Men</td>\n",
       "      <td>6.5</td>\n",
       "      <td>92.0</td>\n",
       "      <td>Grumpy Old Men Collection</td>\n",
       "      <td>[Romance, Comedy]</td>\n",
       "    </tr>\n",
       "  </tbody>\n",
       "</table>\n",
       "</div>"
      ],
      "text/plain": [
       "     budget     id original_language  \\\n",
       "0  30000000    862                en   \n",
       "1  65000000   8844                en   \n",
       "2         0  15602                en   \n",
       "\n",
       "                                            overview popularity  \\\n",
       "0  Led by Woody, Andy's toys live happily in his ...  21.946943   \n",
       "1  When siblings Judy and Peter discover an encha...  17.015539   \n",
       "2  A family wedding reignites the ancient feud be...    11.7129   \n",
       "\n",
       "                                production_companies  \\\n",
       "0     [{'name': 'Pixar Animation Studios', 'id': 3}]   \n",
       "1  [{'name': 'TriStar Pictures', 'id': 559}, {'na...   \n",
       "2  [{'name': 'Warner Bros.', 'id': 6194}, {'name'...   \n",
       "\n",
       "                                production_countries release_date  \\\n",
       "0  [{'iso_3166_1': 'US', 'name': 'United States o...   1995-10-30   \n",
       "1  [{'iso_3166_1': 'US', 'name': 'United States o...   1995-12-15   \n",
       "2  [{'iso_3166_1': 'US', 'name': 'United States o...   1995-12-22   \n",
       "\n",
       "       revenue  runtime                                   spoken_languages  \\\n",
       "0  373554033.0     81.0           [{'iso_639_1': 'en', 'name': 'English'}]   \n",
       "1  262797249.0    104.0  [{'iso_639_1': 'en', 'name': 'English'}, {'iso...   \n",
       "2          0.0    101.0           [{'iso_639_1': 'en', 'name': 'English'}]   \n",
       "\n",
       "     status                                            tagline  \\\n",
       "0  Released                                                NaN   \n",
       "1  Released          Roll the dice and unleash the excitement!   \n",
       "2  Released  Still Yelling. Still Fighting. Still Ready for...   \n",
       "\n",
       "              title  vote_average  vote_count            collection_name  \\\n",
       "0         Toy Story           7.7      5415.0       Toy Story Collection   \n",
       "1           Jumanji           6.9      2413.0                        NaN   \n",
       "2  Grumpier Old Men           6.5        92.0  Grumpy Old Men Collection   \n",
       "\n",
       "                    genre_names  \n",
       "0   [Animation, Comedy, Family]  \n",
       "1  [Adventure, Fantasy, Family]  \n",
       "2             [Romance, Comedy]  "
      ]
     },
     "execution_count": 114,
     "metadata": {},
     "output_type": "execute_result"
    }
   ],
   "source": [
    "df_mov.head(3)"
   ]
  },
  {
   "cell_type": "markdown",
   "metadata": {},
   "source": [
    "production_companies"
   ]
  },
  {
   "cell_type": "code",
   "execution_count": 115,
   "metadata": {},
   "outputs": [
    {
     "data": {
      "text/html": [
       "<div>\n",
       "<style scoped>\n",
       "    .dataframe tbody tr th:only-of-type {\n",
       "        vertical-align: middle;\n",
       "    }\n",
       "\n",
       "    .dataframe tbody tr th {\n",
       "        vertical-align: top;\n",
       "    }\n",
       "\n",
       "    .dataframe thead th {\n",
       "        text-align: right;\n",
       "    }\n",
       "</style>\n",
       "<table border=\"1\" class=\"dataframe\">\n",
       "  <thead>\n",
       "    <tr style=\"text-align: right;\">\n",
       "      <th></th>\n",
       "      <th>production_companies</th>\n",
       "    </tr>\n",
       "  </thead>\n",
       "  <tbody>\n",
       "    <tr>\n",
       "      <th>0</th>\n",
       "      <td>[{'name': 'Pixar Animation Studios', 'id': 3}]</td>\n",
       "    </tr>\n",
       "    <tr>\n",
       "      <th>1</th>\n",
       "      <td>[{'name': 'TriStar Pictures', 'id': 559}, {'na...</td>\n",
       "    </tr>\n",
       "    <tr>\n",
       "      <th>2</th>\n",
       "      <td>[{'name': 'Warner Bros.', 'id': 6194}, {'name'...</td>\n",
       "    </tr>\n",
       "    <tr>\n",
       "      <th>3</th>\n",
       "      <td>[{'name': 'Twentieth Century Fox Film Corporat...</td>\n",
       "    </tr>\n",
       "    <tr>\n",
       "      <th>4</th>\n",
       "      <td>[{'name': 'Sandollar Productions', 'id': 5842}...</td>\n",
       "    </tr>\n",
       "    <tr>\n",
       "      <th>...</th>\n",
       "      <td>...</td>\n",
       "    </tr>\n",
       "    <tr>\n",
       "      <th>45461</th>\n",
       "      <td>[]</td>\n",
       "    </tr>\n",
       "    <tr>\n",
       "      <th>45462</th>\n",
       "      <td>[{'name': 'Sine Olivia', 'id': 19653}]</td>\n",
       "    </tr>\n",
       "    <tr>\n",
       "      <th>45463</th>\n",
       "      <td>[{'name': 'American World Pictures', 'id': 6165}]</td>\n",
       "    </tr>\n",
       "    <tr>\n",
       "      <th>45464</th>\n",
       "      <td>[{'name': 'Yermoliev', 'id': 88753}]</td>\n",
       "    </tr>\n",
       "    <tr>\n",
       "      <th>45465</th>\n",
       "      <td>[]</td>\n",
       "    </tr>\n",
       "  </tbody>\n",
       "</table>\n",
       "<p>45466 rows × 1 columns</p>\n",
       "</div>"
      ],
      "text/plain": [
       "                                    production_companies\n",
       "0         [{'name': 'Pixar Animation Studios', 'id': 3}]\n",
       "1      [{'name': 'TriStar Pictures', 'id': 559}, {'na...\n",
       "2      [{'name': 'Warner Bros.', 'id': 6194}, {'name'...\n",
       "3      [{'name': 'Twentieth Century Fox Film Corporat...\n",
       "4      [{'name': 'Sandollar Productions', 'id': 5842}...\n",
       "...                                                  ...\n",
       "45461                                                 []\n",
       "45462             [{'name': 'Sine Olivia', 'id': 19653}]\n",
       "45463  [{'name': 'American World Pictures', 'id': 6165}]\n",
       "45464               [{'name': 'Yermoliev', 'id': 88753}]\n",
       "45465                                                 []\n",
       "\n",
       "[45466 rows x 1 columns]"
      ]
     },
     "execution_count": 115,
     "metadata": {},
     "output_type": "execute_result"
    }
   ],
   "source": [
    "df_mov[['production_companies']]"
   ]
  },
  {
   "cell_type": "markdown",
   "metadata": {},
   "source": [
    "- Revisar el contenido"
   ]
  },
  {
   "cell_type": "code",
   "execution_count": 116,
   "metadata": {},
   "outputs": [
    {
     "data": {
      "text/plain": [
       "\"[{'name': 'Pixar Animation Studios', 'id': 3}]\""
      ]
     },
     "execution_count": 116,
     "metadata": {},
     "output_type": "execute_result"
    }
   ],
   "source": [
    "df_mov['production_companies'].iloc[0] "
   ]
  },
  {
   "cell_type": "markdown",
   "metadata": {},
   "source": [
    "- Identificar el tipo"
   ]
  },
  {
   "cell_type": "code",
   "execution_count": 117,
   "metadata": {},
   "outputs": [
    {
     "data": {
      "text/plain": [
       "str"
      ]
     },
     "execution_count": 117,
     "metadata": {},
     "output_type": "execute_result"
    }
   ],
   "source": [
    "type(df_mov['production_companies'].iloc[0])"
   ]
  },
  {
   "cell_type": "markdown",
   "metadata": {},
   "source": [
    "- Al ser una cadena de texto, debemos convertir a dicionario para poder trabajarlo"
   ]
  },
  {
   "cell_type": "code",
   "execution_count": 118,
   "metadata": {},
   "outputs": [],
   "source": [
    "# Convertir la columna de strings JSON a listas de diccionarios\n",
    "df_mov['production_companies'] = df_mov['production_companies'].apply(\n",
    "    lambda x: ast.literal_eval(x) if isinstance(x, str) and x.startswith('[') else []\n",
    ")\n",
    "\n",
    "# Expandir los diccionarios en filas separadas\n",
    "desanidado_production_companies = df_mov.explode('production_companies')\n",
    "\n",
    "# Convertir los diccionarios en columnas\n",
    "desanidado_production_companies = pd.concat(\n",
    "    [\n",
    "        desanidado_production_companies,\n",
    "        desanidado_production_companies['production_companies'].apply(pd.Series),\n",
    "    ],\n",
    "    axis=1,\n",
    ")\n",
    "\n",
    "# Eliminar la columna original 'production_companies' del DataFrame inicial\n",
    "df_mov = df_mov.drop(columns=['production_companies'])\n",
    "\n",
    "# Agregar las columnas desanidadas ('name', 'id') al DataFrame original\n",
    "df_mov = df_mov.merge(\n",
    "    desanidado_production_companies[['title', 'name']],\n",
    "    on='title',\n",
    "    how='left'\n",
    ")\n"
   ]
  },
  {
   "cell_type": "markdown",
   "metadata": {},
   "source": [
    "- Al haber desanidado en filas, ahora procedemos a unir las compañias productoras y eliminar las filas repetidas"
   ]
  },
  {
   "cell_type": "code",
   "execution_count": 119,
   "metadata": {},
   "outputs": [],
   "source": [
    "\n",
    "desanidado_production_companies['name'] = desanidado_production_companies['name'].astype(str)\n",
    "\n",
    "agrupado_production_companies = desanidado_production_companies.groupby('title')['name'].apply(\n",
    "    lambda x: ', '.join(filter(None, x))\n",
    ").reset_index()\n",
    "\n",
    "df_mov = df_mov.drop(columns=['name'], errors='ignore')  # Eliminar columna duplicada si existe\n",
    "df_mov = df_mov.merge(\n",
    "    agrupado_production_companies,\n",
    "    on='title',\n",
    "    how='left'\n",
    ").rename(columns={'name': 'production_companies_names'})\n",
    "\n",
    "df_mov = df_mov.drop_duplicates(subset=['title']).reset_index(drop=True)\n",
    "\n",
    "df_mov['production_companies_names'] = df_mov['production_companies_names'].apply(\n",
    "    lambda x: x.split(\", \") if isinstance(x, str) else x\n",
    ")"
   ]
  },
  {
   "cell_type": "code",
   "execution_count": 120,
   "metadata": {},
   "outputs": [
    {
     "data": {
      "text/html": [
       "<div>\n",
       "<style scoped>\n",
       "    .dataframe tbody tr th:only-of-type {\n",
       "        vertical-align: middle;\n",
       "    }\n",
       "\n",
       "    .dataframe tbody tr th {\n",
       "        vertical-align: top;\n",
       "    }\n",
       "\n",
       "    .dataframe thead th {\n",
       "        text-align: right;\n",
       "    }\n",
       "</style>\n",
       "<table border=\"1\" class=\"dataframe\">\n",
       "  <thead>\n",
       "    <tr style=\"text-align: right;\">\n",
       "      <th></th>\n",
       "      <th>budget</th>\n",
       "      <th>id</th>\n",
       "      <th>original_language</th>\n",
       "      <th>overview</th>\n",
       "      <th>popularity</th>\n",
       "      <th>production_countries</th>\n",
       "      <th>release_date</th>\n",
       "      <th>revenue</th>\n",
       "      <th>runtime</th>\n",
       "      <th>spoken_languages</th>\n",
       "      <th>status</th>\n",
       "      <th>tagline</th>\n",
       "      <th>title</th>\n",
       "      <th>vote_average</th>\n",
       "      <th>vote_count</th>\n",
       "      <th>collection_name</th>\n",
       "      <th>genre_names</th>\n",
       "      <th>production_companies_names</th>\n",
       "    </tr>\n",
       "  </thead>\n",
       "  <tbody>\n",
       "    <tr>\n",
       "      <th>0</th>\n",
       "      <td>30000000</td>\n",
       "      <td>862</td>\n",
       "      <td>en</td>\n",
       "      <td>Led by Woody, Andy's toys live happily in his ...</td>\n",
       "      <td>21.946943</td>\n",
       "      <td>[{'iso_3166_1': 'US', 'name': 'United States o...</td>\n",
       "      <td>1995-10-30</td>\n",
       "      <td>373554033.0</td>\n",
       "      <td>81.0</td>\n",
       "      <td>[{'iso_639_1': 'en', 'name': 'English'}]</td>\n",
       "      <td>Released</td>\n",
       "      <td>NaN</td>\n",
       "      <td>Toy Story</td>\n",
       "      <td>7.7</td>\n",
       "      <td>5415.0</td>\n",
       "      <td>Toy Story Collection</td>\n",
       "      <td>[Animation, Comedy, Family]</td>\n",
       "      <td>[Pixar Animation Studios]</td>\n",
       "    </tr>\n",
       "    <tr>\n",
       "      <th>1</th>\n",
       "      <td>65000000</td>\n",
       "      <td>8844</td>\n",
       "      <td>en</td>\n",
       "      <td>When siblings Judy and Peter discover an encha...</td>\n",
       "      <td>17.015539</td>\n",
       "      <td>[{'iso_3166_1': 'US', 'name': 'United States o...</td>\n",
       "      <td>1995-12-15</td>\n",
       "      <td>262797249.0</td>\n",
       "      <td>104.0</td>\n",
       "      <td>[{'iso_639_1': 'en', 'name': 'English'}, {'iso...</td>\n",
       "      <td>Released</td>\n",
       "      <td>Roll the dice and unleash the excitement!</td>\n",
       "      <td>Jumanji</td>\n",
       "      <td>6.9</td>\n",
       "      <td>2413.0</td>\n",
       "      <td>NaN</td>\n",
       "      <td>[Adventure, Fantasy, Family]</td>\n",
       "      <td>[TriStar Pictures, Teitler Film, Interscope Co...</td>\n",
       "    </tr>\n",
       "    <tr>\n",
       "      <th>2</th>\n",
       "      <td>0</td>\n",
       "      <td>15602</td>\n",
       "      <td>en</td>\n",
       "      <td>A family wedding reignites the ancient feud be...</td>\n",
       "      <td>11.7129</td>\n",
       "      <td>[{'iso_3166_1': 'US', 'name': 'United States o...</td>\n",
       "      <td>1995-12-22</td>\n",
       "      <td>0.0</td>\n",
       "      <td>101.0</td>\n",
       "      <td>[{'iso_639_1': 'en', 'name': 'English'}]</td>\n",
       "      <td>Released</td>\n",
       "      <td>Still Yelling. Still Fighting. Still Ready for...</td>\n",
       "      <td>Grumpier Old Men</td>\n",
       "      <td>6.5</td>\n",
       "      <td>92.0</td>\n",
       "      <td>Grumpy Old Men Collection</td>\n",
       "      <td>[Romance, Comedy]</td>\n",
       "      <td>[Warner Bros., Lancaster Gate]</td>\n",
       "    </tr>\n",
       "  </tbody>\n",
       "</table>\n",
       "</div>"
      ],
      "text/plain": [
       "     budget     id original_language  \\\n",
       "0  30000000    862                en   \n",
       "1  65000000   8844                en   \n",
       "2         0  15602                en   \n",
       "\n",
       "                                            overview popularity  \\\n",
       "0  Led by Woody, Andy's toys live happily in his ...  21.946943   \n",
       "1  When siblings Judy and Peter discover an encha...  17.015539   \n",
       "2  A family wedding reignites the ancient feud be...    11.7129   \n",
       "\n",
       "                                production_countries release_date  \\\n",
       "0  [{'iso_3166_1': 'US', 'name': 'United States o...   1995-10-30   \n",
       "1  [{'iso_3166_1': 'US', 'name': 'United States o...   1995-12-15   \n",
       "2  [{'iso_3166_1': 'US', 'name': 'United States o...   1995-12-22   \n",
       "\n",
       "       revenue  runtime                                   spoken_languages  \\\n",
       "0  373554033.0     81.0           [{'iso_639_1': 'en', 'name': 'English'}]   \n",
       "1  262797249.0    104.0  [{'iso_639_1': 'en', 'name': 'English'}, {'iso...   \n",
       "2          0.0    101.0           [{'iso_639_1': 'en', 'name': 'English'}]   \n",
       "\n",
       "     status                                            tagline  \\\n",
       "0  Released                                                NaN   \n",
       "1  Released          Roll the dice and unleash the excitement!   \n",
       "2  Released  Still Yelling. Still Fighting. Still Ready for...   \n",
       "\n",
       "              title  vote_average  vote_count            collection_name  \\\n",
       "0         Toy Story           7.7      5415.0       Toy Story Collection   \n",
       "1           Jumanji           6.9      2413.0                        NaN   \n",
       "2  Grumpier Old Men           6.5        92.0  Grumpy Old Men Collection   \n",
       "\n",
       "                    genre_names  \\\n",
       "0   [Animation, Comedy, Family]   \n",
       "1  [Adventure, Fantasy, Family]   \n",
       "2             [Romance, Comedy]   \n",
       "\n",
       "                          production_companies_names  \n",
       "0                          [Pixar Animation Studios]  \n",
       "1  [TriStar Pictures, Teitler Film, Interscope Co...  \n",
       "2                     [Warner Bros., Lancaster Gate]  "
      ]
     },
     "execution_count": 120,
     "metadata": {},
     "output_type": "execute_result"
    }
   ],
   "source": [
    "df_mov.head(3)"
   ]
  },
  {
   "cell_type": "markdown",
   "metadata": {},
   "source": [
    "production_countries"
   ]
  },
  {
   "cell_type": "code",
   "execution_count": 121,
   "metadata": {},
   "outputs": [
    {
     "data": {
      "text/html": [
       "<div>\n",
       "<style scoped>\n",
       "    .dataframe tbody tr th:only-of-type {\n",
       "        vertical-align: middle;\n",
       "    }\n",
       "\n",
       "    .dataframe tbody tr th {\n",
       "        vertical-align: top;\n",
       "    }\n",
       "\n",
       "    .dataframe thead th {\n",
       "        text-align: right;\n",
       "    }\n",
       "</style>\n",
       "<table border=\"1\" class=\"dataframe\">\n",
       "  <thead>\n",
       "    <tr style=\"text-align: right;\">\n",
       "      <th></th>\n",
       "      <th>production_countries</th>\n",
       "    </tr>\n",
       "  </thead>\n",
       "  <tbody>\n",
       "    <tr>\n",
       "      <th>0</th>\n",
       "      <td>[{'iso_3166_1': 'US', 'name': 'United States o...</td>\n",
       "    </tr>\n",
       "    <tr>\n",
       "      <th>1</th>\n",
       "      <td>[{'iso_3166_1': 'US', 'name': 'United States o...</td>\n",
       "    </tr>\n",
       "    <tr>\n",
       "      <th>2</th>\n",
       "      <td>[{'iso_3166_1': 'US', 'name': 'United States o...</td>\n",
       "    </tr>\n",
       "    <tr>\n",
       "      <th>3</th>\n",
       "      <td>[{'iso_3166_1': 'US', 'name': 'United States o...</td>\n",
       "    </tr>\n",
       "    <tr>\n",
       "      <th>4</th>\n",
       "      <td>[{'iso_3166_1': 'US', 'name': 'United States o...</td>\n",
       "    </tr>\n",
       "  </tbody>\n",
       "</table>\n",
       "</div>"
      ],
      "text/plain": [
       "                                production_countries\n",
       "0  [{'iso_3166_1': 'US', 'name': 'United States o...\n",
       "1  [{'iso_3166_1': 'US', 'name': 'United States o...\n",
       "2  [{'iso_3166_1': 'US', 'name': 'United States o...\n",
       "3  [{'iso_3166_1': 'US', 'name': 'United States o...\n",
       "4  [{'iso_3166_1': 'US', 'name': 'United States o..."
      ]
     },
     "execution_count": 121,
     "metadata": {},
     "output_type": "execute_result"
    }
   ],
   "source": [
    "df_mov[['production_countries']].head()\n"
   ]
  },
  {
   "cell_type": "markdown",
   "metadata": {},
   "source": [
    "- Revisar el contenido"
   ]
  },
  {
   "cell_type": "code",
   "execution_count": 122,
   "metadata": {},
   "outputs": [
    {
     "data": {
      "text/plain": [
       "\"[{'iso_3166_1': 'US', 'name': 'United States of America'}]\""
      ]
     },
     "execution_count": 122,
     "metadata": {},
     "output_type": "execute_result"
    }
   ],
   "source": [
    "df_mov['production_countries'].iloc[0]"
   ]
  },
  {
   "cell_type": "markdown",
   "metadata": {},
   "source": [
    "- Identificar el tipo"
   ]
  },
  {
   "cell_type": "code",
   "execution_count": 123,
   "metadata": {},
   "outputs": [
    {
     "data": {
      "text/plain": [
       "str"
      ]
     },
     "execution_count": 123,
     "metadata": {},
     "output_type": "execute_result"
    }
   ],
   "source": [
    "type(df_mov['production_countries'].iloc[0])"
   ]
  },
  {
   "cell_type": "markdown",
   "metadata": {},
   "source": [
    "- Al ser una cadena de texto, debemos convertir a dicionario para poder trabajarlo"
   ]
  },
  {
   "cell_type": "code",
   "execution_count": 124,
   "metadata": {},
   "outputs": [],
   "source": [
    "df_mov['production_countries'] = df_mov['production_countries'].apply(\n",
    "    lambda x: ast.literal_eval(x) if pd.notna(x) else []\n",
    ")"
   ]
  },
  {
   "cell_type": "code",
   "execution_count": 125,
   "metadata": {},
   "outputs": [],
   "source": [
    "df_mov['production_countries_names'] = df_mov['production_countries'].apply(\n",
    "    lambda x: [genre['name'] for genre in x if isinstance(genre, dict)]\n",
    ")"
   ]
  },
  {
   "cell_type": "code",
   "execution_count": 126,
   "metadata": {},
   "outputs": [],
   "source": [
    "df_mov = df_mov.drop(columns=['production_countries'])"
   ]
  },
  {
   "cell_type": "code",
   "execution_count": 127,
   "metadata": {},
   "outputs": [
    {
     "data": {
      "text/html": [
       "<div>\n",
       "<style scoped>\n",
       "    .dataframe tbody tr th:only-of-type {\n",
       "        vertical-align: middle;\n",
       "    }\n",
       "\n",
       "    .dataframe tbody tr th {\n",
       "        vertical-align: top;\n",
       "    }\n",
       "\n",
       "    .dataframe thead th {\n",
       "        text-align: right;\n",
       "    }\n",
       "</style>\n",
       "<table border=\"1\" class=\"dataframe\">\n",
       "  <thead>\n",
       "    <tr style=\"text-align: right;\">\n",
       "      <th></th>\n",
       "      <th>budget</th>\n",
       "      <th>id</th>\n",
       "      <th>original_language</th>\n",
       "      <th>overview</th>\n",
       "      <th>popularity</th>\n",
       "      <th>release_date</th>\n",
       "      <th>revenue</th>\n",
       "      <th>runtime</th>\n",
       "      <th>spoken_languages</th>\n",
       "      <th>status</th>\n",
       "      <th>tagline</th>\n",
       "      <th>title</th>\n",
       "      <th>vote_average</th>\n",
       "      <th>vote_count</th>\n",
       "      <th>collection_name</th>\n",
       "      <th>genre_names</th>\n",
       "      <th>production_companies_names</th>\n",
       "      <th>production_countries_names</th>\n",
       "    </tr>\n",
       "  </thead>\n",
       "  <tbody>\n",
       "    <tr>\n",
       "      <th>0</th>\n",
       "      <td>30000000</td>\n",
       "      <td>862</td>\n",
       "      <td>en</td>\n",
       "      <td>Led by Woody, Andy's toys live happily in his ...</td>\n",
       "      <td>21.946943</td>\n",
       "      <td>1995-10-30</td>\n",
       "      <td>373554033.0</td>\n",
       "      <td>81.0</td>\n",
       "      <td>[{'iso_639_1': 'en', 'name': 'English'}]</td>\n",
       "      <td>Released</td>\n",
       "      <td>NaN</td>\n",
       "      <td>Toy Story</td>\n",
       "      <td>7.7</td>\n",
       "      <td>5415.0</td>\n",
       "      <td>Toy Story Collection</td>\n",
       "      <td>[Animation, Comedy, Family]</td>\n",
       "      <td>[Pixar Animation Studios]</td>\n",
       "      <td>[United States of America]</td>\n",
       "    </tr>\n",
       "    <tr>\n",
       "      <th>1</th>\n",
       "      <td>65000000</td>\n",
       "      <td>8844</td>\n",
       "      <td>en</td>\n",
       "      <td>When siblings Judy and Peter discover an encha...</td>\n",
       "      <td>17.015539</td>\n",
       "      <td>1995-12-15</td>\n",
       "      <td>262797249.0</td>\n",
       "      <td>104.0</td>\n",
       "      <td>[{'iso_639_1': 'en', 'name': 'English'}, {'iso...</td>\n",
       "      <td>Released</td>\n",
       "      <td>Roll the dice and unleash the excitement!</td>\n",
       "      <td>Jumanji</td>\n",
       "      <td>6.9</td>\n",
       "      <td>2413.0</td>\n",
       "      <td>NaN</td>\n",
       "      <td>[Adventure, Fantasy, Family]</td>\n",
       "      <td>[TriStar Pictures, Teitler Film, Interscope Co...</td>\n",
       "      <td>[United States of America]</td>\n",
       "    </tr>\n",
       "    <tr>\n",
       "      <th>2</th>\n",
       "      <td>0</td>\n",
       "      <td>15602</td>\n",
       "      <td>en</td>\n",
       "      <td>A family wedding reignites the ancient feud be...</td>\n",
       "      <td>11.7129</td>\n",
       "      <td>1995-12-22</td>\n",
       "      <td>0.0</td>\n",
       "      <td>101.0</td>\n",
       "      <td>[{'iso_639_1': 'en', 'name': 'English'}]</td>\n",
       "      <td>Released</td>\n",
       "      <td>Still Yelling. Still Fighting. Still Ready for...</td>\n",
       "      <td>Grumpier Old Men</td>\n",
       "      <td>6.5</td>\n",
       "      <td>92.0</td>\n",
       "      <td>Grumpy Old Men Collection</td>\n",
       "      <td>[Romance, Comedy]</td>\n",
       "      <td>[Warner Bros., Lancaster Gate]</td>\n",
       "      <td>[United States of America]</td>\n",
       "    </tr>\n",
       "  </tbody>\n",
       "</table>\n",
       "</div>"
      ],
      "text/plain": [
       "     budget     id original_language  \\\n",
       "0  30000000    862                en   \n",
       "1  65000000   8844                en   \n",
       "2         0  15602                en   \n",
       "\n",
       "                                            overview popularity release_date  \\\n",
       "0  Led by Woody, Andy's toys live happily in his ...  21.946943   1995-10-30   \n",
       "1  When siblings Judy and Peter discover an encha...  17.015539   1995-12-15   \n",
       "2  A family wedding reignites the ancient feud be...    11.7129   1995-12-22   \n",
       "\n",
       "       revenue  runtime                                   spoken_languages  \\\n",
       "0  373554033.0     81.0           [{'iso_639_1': 'en', 'name': 'English'}]   \n",
       "1  262797249.0    104.0  [{'iso_639_1': 'en', 'name': 'English'}, {'iso...   \n",
       "2          0.0    101.0           [{'iso_639_1': 'en', 'name': 'English'}]   \n",
       "\n",
       "     status                                            tagline  \\\n",
       "0  Released                                                NaN   \n",
       "1  Released          Roll the dice and unleash the excitement!   \n",
       "2  Released  Still Yelling. Still Fighting. Still Ready for...   \n",
       "\n",
       "              title  vote_average  vote_count            collection_name  \\\n",
       "0         Toy Story           7.7      5415.0       Toy Story Collection   \n",
       "1           Jumanji           6.9      2413.0                        NaN   \n",
       "2  Grumpier Old Men           6.5        92.0  Grumpy Old Men Collection   \n",
       "\n",
       "                    genre_names  \\\n",
       "0   [Animation, Comedy, Family]   \n",
       "1  [Adventure, Fantasy, Family]   \n",
       "2             [Romance, Comedy]   \n",
       "\n",
       "                          production_companies_names  \\\n",
       "0                          [Pixar Animation Studios]   \n",
       "1  [TriStar Pictures, Teitler Film, Interscope Co...   \n",
       "2                     [Warner Bros., Lancaster Gate]   \n",
       "\n",
       "   production_countries_names  \n",
       "0  [United States of America]  \n",
       "1  [United States of America]  \n",
       "2  [United States of America]  "
      ]
     },
     "execution_count": 127,
     "metadata": {},
     "output_type": "execute_result"
    }
   ],
   "source": [
    "df_mov.head(3)"
   ]
  },
  {
   "cell_type": "code",
   "execution_count": 128,
   "metadata": {},
   "outputs": [
    {
     "name": "stdout",
     "output_type": "stream",
     "text": [
      "<class 'pandas.core.frame.DataFrame'>\n",
      "RangeIndex: 42278 entries, 0 to 42277\n",
      "Data columns (total 18 columns):\n",
      " #   Column                      Non-Null Count  Dtype  \n",
      "---  ------                      --------------  -----  \n",
      " 0   budget                      42278 non-null  object \n",
      " 1   id                          42278 non-null  object \n",
      " 2   original_language           42267 non-null  object \n",
      " 3   overview                    41363 non-null  object \n",
      " 4   popularity                  42277 non-null  object \n",
      " 5   release_date                42196 non-null  object \n",
      " 6   revenue                     42277 non-null  float64\n",
      " 7   runtime                     42027 non-null  float64\n",
      " 8   spoken_languages            42277 non-null  object \n",
      " 9   status                      42201 non-null  object \n",
      " 10  tagline                     19052 non-null  object \n",
      " 11  title                       42277 non-null  object \n",
      " 12  vote_average                42277 non-null  float64\n",
      " 13  vote_count                  42277 non-null  float64\n",
      " 14  collection_name             4358 non-null   object \n",
      " 15  genre_names                 42278 non-null  object \n",
      " 16  production_companies_names  42277 non-null  object \n",
      " 17  production_countries_names  42278 non-null  object \n",
      "dtypes: float64(4), object(14)\n",
      "memory usage: 5.8+ MB\n"
     ]
    }
   ],
   "source": [
    "df_mov.info()"
   ]
  },
  {
   "cell_type": "markdown",
   "metadata": {},
   "source": [
    "spoken_languages"
   ]
  },
  {
   "cell_type": "code",
   "execution_count": 129,
   "metadata": {},
   "outputs": [
    {
     "data": {
      "text/plain": [
       "0                 [{'iso_639_1': 'en', 'name': 'English'}]\n",
       "1        [{'iso_639_1': 'en', 'name': 'English'}, {'iso...\n",
       "2                 [{'iso_639_1': 'en', 'name': 'English'}]\n",
       "3                 [{'iso_639_1': 'en', 'name': 'English'}]\n",
       "4                 [{'iso_639_1': 'en', 'name': 'English'}]\n",
       "                               ...                        \n",
       "42273             [{'iso_639_1': 'en', 'name': 'English'}]\n",
       "42274               [{'iso_639_1': 'fa', 'name': 'فارسی'}]\n",
       "42275                    [{'iso_639_1': 'tl', 'name': ''}]\n",
       "42276                                                   []\n",
       "42277             [{'iso_639_1': 'en', 'name': 'English'}]\n",
       "Name: spoken_languages, Length: 42278, dtype: object"
      ]
     },
     "execution_count": 129,
     "metadata": {},
     "output_type": "execute_result"
    }
   ],
   "source": [
    "df_mov['spoken_languages']"
   ]
  },
  {
   "cell_type": "markdown",
   "metadata": {},
   "source": [
    "- Revisar el contenido\n"
   ]
  },
  {
   "cell_type": "code",
   "execution_count": 130,
   "metadata": {},
   "outputs": [
    {
     "data": {
      "text/plain": [
       "\"[{'iso_639_1': 'en', 'name': 'English'}]\""
      ]
     },
     "execution_count": 130,
     "metadata": {},
     "output_type": "execute_result"
    }
   ],
   "source": [
    "df_mov['spoken_languages'].iloc[0]"
   ]
  },
  {
   "cell_type": "markdown",
   "metadata": {},
   "source": [
    "- Identificar el tipo\n"
   ]
  },
  {
   "cell_type": "code",
   "execution_count": 131,
   "metadata": {},
   "outputs": [
    {
     "data": {
      "text/plain": [
       "str"
      ]
     },
     "execution_count": 131,
     "metadata": {},
     "output_type": "execute_result"
    }
   ],
   "source": [
    "type(df_mov['spoken_languages'].iloc[0])\n"
   ]
  },
  {
   "cell_type": "markdown",
   "metadata": {},
   "source": [
    "- Al ser una cadena de texto, debemos convertir a dicionario para poder trabajarlo"
   ]
  },
  {
   "cell_type": "code",
   "execution_count": 132,
   "metadata": {},
   "outputs": [],
   "source": [
    "df_mov['spoken_languages'] = df_mov['spoken_languages'].apply(\n",
    "    lambda x: ast.literal_eval(x) if pd.notna(x) else []\n",
    ")"
   ]
  },
  {
   "cell_type": "code",
   "execution_count": 133,
   "metadata": {},
   "outputs": [],
   "source": [
    "df_mov['spoken_languages_names'] = df_mov['spoken_languages'].apply(\n",
    "    lambda x: [genre['name'] for genre in x if isinstance(genre, dict)]\n",
    ")"
   ]
  },
  {
   "cell_type": "code",
   "execution_count": 134,
   "metadata": {},
   "outputs": [],
   "source": [
    "df_mov = df_mov.drop(columns=['spoken_languages'])"
   ]
  },
  {
   "cell_type": "code",
   "execution_count": 135,
   "metadata": {},
   "outputs": [
    {
     "data": {
      "text/html": [
       "<div>\n",
       "<style scoped>\n",
       "    .dataframe tbody tr th:only-of-type {\n",
       "        vertical-align: middle;\n",
       "    }\n",
       "\n",
       "    .dataframe tbody tr th {\n",
       "        vertical-align: top;\n",
       "    }\n",
       "\n",
       "    .dataframe thead th {\n",
       "        text-align: right;\n",
       "    }\n",
       "</style>\n",
       "<table border=\"1\" class=\"dataframe\">\n",
       "  <thead>\n",
       "    <tr style=\"text-align: right;\">\n",
       "      <th></th>\n",
       "      <th>budget</th>\n",
       "      <th>id</th>\n",
       "      <th>original_language</th>\n",
       "      <th>overview</th>\n",
       "      <th>popularity</th>\n",
       "      <th>release_date</th>\n",
       "      <th>revenue</th>\n",
       "      <th>runtime</th>\n",
       "      <th>status</th>\n",
       "      <th>tagline</th>\n",
       "      <th>title</th>\n",
       "      <th>vote_average</th>\n",
       "      <th>vote_count</th>\n",
       "      <th>collection_name</th>\n",
       "      <th>genre_names</th>\n",
       "      <th>production_companies_names</th>\n",
       "      <th>production_countries_names</th>\n",
       "      <th>spoken_languages_names</th>\n",
       "    </tr>\n",
       "  </thead>\n",
       "  <tbody>\n",
       "    <tr>\n",
       "      <th>0</th>\n",
       "      <td>30000000</td>\n",
       "      <td>862</td>\n",
       "      <td>en</td>\n",
       "      <td>Led by Woody, Andy's toys live happily in his ...</td>\n",
       "      <td>21.946943</td>\n",
       "      <td>1995-10-30</td>\n",
       "      <td>373554033.0</td>\n",
       "      <td>81.0</td>\n",
       "      <td>Released</td>\n",
       "      <td>NaN</td>\n",
       "      <td>Toy Story</td>\n",
       "      <td>7.7</td>\n",
       "      <td>5415.0</td>\n",
       "      <td>Toy Story Collection</td>\n",
       "      <td>[Animation, Comedy, Family]</td>\n",
       "      <td>[Pixar Animation Studios]</td>\n",
       "      <td>[United States of America]</td>\n",
       "      <td>[English]</td>\n",
       "    </tr>\n",
       "    <tr>\n",
       "      <th>1</th>\n",
       "      <td>65000000</td>\n",
       "      <td>8844</td>\n",
       "      <td>en</td>\n",
       "      <td>When siblings Judy and Peter discover an encha...</td>\n",
       "      <td>17.015539</td>\n",
       "      <td>1995-12-15</td>\n",
       "      <td>262797249.0</td>\n",
       "      <td>104.0</td>\n",
       "      <td>Released</td>\n",
       "      <td>Roll the dice and unleash the excitement!</td>\n",
       "      <td>Jumanji</td>\n",
       "      <td>6.9</td>\n",
       "      <td>2413.0</td>\n",
       "      <td>NaN</td>\n",
       "      <td>[Adventure, Fantasy, Family]</td>\n",
       "      <td>[TriStar Pictures, Teitler Film, Interscope Co...</td>\n",
       "      <td>[United States of America]</td>\n",
       "      <td>[English, Français]</td>\n",
       "    </tr>\n",
       "    <tr>\n",
       "      <th>2</th>\n",
       "      <td>0</td>\n",
       "      <td>15602</td>\n",
       "      <td>en</td>\n",
       "      <td>A family wedding reignites the ancient feud be...</td>\n",
       "      <td>11.7129</td>\n",
       "      <td>1995-12-22</td>\n",
       "      <td>0.0</td>\n",
       "      <td>101.0</td>\n",
       "      <td>Released</td>\n",
       "      <td>Still Yelling. Still Fighting. Still Ready for...</td>\n",
       "      <td>Grumpier Old Men</td>\n",
       "      <td>6.5</td>\n",
       "      <td>92.0</td>\n",
       "      <td>Grumpy Old Men Collection</td>\n",
       "      <td>[Romance, Comedy]</td>\n",
       "      <td>[Warner Bros., Lancaster Gate]</td>\n",
       "      <td>[United States of America]</td>\n",
       "      <td>[English]</td>\n",
       "    </tr>\n",
       "  </tbody>\n",
       "</table>\n",
       "</div>"
      ],
      "text/plain": [
       "     budget     id original_language  \\\n",
       "0  30000000    862                en   \n",
       "1  65000000   8844                en   \n",
       "2         0  15602                en   \n",
       "\n",
       "                                            overview popularity release_date  \\\n",
       "0  Led by Woody, Andy's toys live happily in his ...  21.946943   1995-10-30   \n",
       "1  When siblings Judy and Peter discover an encha...  17.015539   1995-12-15   \n",
       "2  A family wedding reignites the ancient feud be...    11.7129   1995-12-22   \n",
       "\n",
       "       revenue  runtime    status  \\\n",
       "0  373554033.0     81.0  Released   \n",
       "1  262797249.0    104.0  Released   \n",
       "2          0.0    101.0  Released   \n",
       "\n",
       "                                             tagline             title  \\\n",
       "0                                                NaN         Toy Story   \n",
       "1          Roll the dice and unleash the excitement!           Jumanji   \n",
       "2  Still Yelling. Still Fighting. Still Ready for...  Grumpier Old Men   \n",
       "\n",
       "   vote_average  vote_count            collection_name  \\\n",
       "0           7.7      5415.0       Toy Story Collection   \n",
       "1           6.9      2413.0                        NaN   \n",
       "2           6.5        92.0  Grumpy Old Men Collection   \n",
       "\n",
       "                    genre_names  \\\n",
       "0   [Animation, Comedy, Family]   \n",
       "1  [Adventure, Fantasy, Family]   \n",
       "2             [Romance, Comedy]   \n",
       "\n",
       "                          production_companies_names  \\\n",
       "0                          [Pixar Animation Studios]   \n",
       "1  [TriStar Pictures, Teitler Film, Interscope Co...   \n",
       "2                     [Warner Bros., Lancaster Gate]   \n",
       "\n",
       "   production_countries_names spoken_languages_names  \n",
       "0  [United States of America]              [English]  \n",
       "1  [United States of America]    [English, Français]  \n",
       "2  [United States of America]              [English]  "
      ]
     },
     "execution_count": 135,
     "metadata": {},
     "output_type": "execute_result"
    }
   ],
   "source": [
    "df_mov.head(3)"
   ]
  },
  {
   "cell_type": "markdown",
   "metadata": {},
   "source": [
    "------"
   ]
  },
  {
   "cell_type": "markdown",
   "metadata": {},
   "source": [
    "02 TRANSFORMACION"
   ]
  },
  {
   "cell_type": "markdown",
   "metadata": {},
   "source": [
    "- Los valores nulos de los campos revenue, budget deben ser rellenados por el número 0"
   ]
  },
  {
   "cell_type": "code",
   "execution_count": 136,
   "metadata": {},
   "outputs": [],
   "source": [
    "df_mov['revenue'] = df_mov['revenue'].fillna(0)\n",
    "df_mov['budget'] = df_mov['budget'].fillna(0)"
   ]
  },
  {
   "cell_type": "markdown",
   "metadata": {},
   "source": [
    "- Los valores nulos del campo release date deben eliminarse."
   ]
  },
  {
   "cell_type": "code",
   "execution_count": 137,
   "metadata": {},
   "outputs": [],
   "source": [
    "df_mov = df_mov.dropna(subset=['release_date'])"
   ]
  },
  {
   "cell_type": "markdown",
   "metadata": {},
   "source": [
    "- De haber fechas, deberán tener el formato AAAA-mm-dd, además deberán crear la columna release_year donde extraerán el año de la fecha de estreno."
   ]
  },
  {
   "cell_type": "code",
   "execution_count": 138,
   "metadata": {},
   "outputs": [],
   "source": [
    "df_mov['release_date'] = pd.to_datetime(df_mov['release_date'], errors='coerce', format='%Y-%m-%d')"
   ]
  },
  {
   "cell_type": "code",
   "execution_count": 139,
   "metadata": {},
   "outputs": [],
   "source": [
    "df_mov['release_year'] = df_mov['release_date'].dt.year"
   ]
  },
  {
   "cell_type": "code",
   "execution_count": 140,
   "metadata": {},
   "outputs": [
    {
     "data": {
      "text/html": [
       "<div>\n",
       "<style scoped>\n",
       "    .dataframe tbody tr th:only-of-type {\n",
       "        vertical-align: middle;\n",
       "    }\n",
       "\n",
       "    .dataframe tbody tr th {\n",
       "        vertical-align: top;\n",
       "    }\n",
       "\n",
       "    .dataframe thead th {\n",
       "        text-align: right;\n",
       "    }\n",
       "</style>\n",
       "<table border=\"1\" class=\"dataframe\">\n",
       "  <thead>\n",
       "    <tr style=\"text-align: right;\">\n",
       "      <th></th>\n",
       "      <th>budget</th>\n",
       "      <th>id</th>\n",
       "      <th>original_language</th>\n",
       "      <th>overview</th>\n",
       "      <th>popularity</th>\n",
       "      <th>release_date</th>\n",
       "      <th>revenue</th>\n",
       "      <th>runtime</th>\n",
       "      <th>status</th>\n",
       "      <th>tagline</th>\n",
       "      <th>title</th>\n",
       "      <th>vote_average</th>\n",
       "      <th>vote_count</th>\n",
       "      <th>collection_name</th>\n",
       "      <th>genre_names</th>\n",
       "      <th>production_companies_names</th>\n",
       "      <th>production_countries_names</th>\n",
       "      <th>spoken_languages_names</th>\n",
       "      <th>release_year</th>\n",
       "    </tr>\n",
       "  </thead>\n",
       "  <tbody>\n",
       "    <tr>\n",
       "      <th>0</th>\n",
       "      <td>30000000</td>\n",
       "      <td>862</td>\n",
       "      <td>en</td>\n",
       "      <td>Led by Woody, Andy's toys live happily in his ...</td>\n",
       "      <td>21.946943</td>\n",
       "      <td>1995-10-30</td>\n",
       "      <td>373554033.0</td>\n",
       "      <td>81.0</td>\n",
       "      <td>Released</td>\n",
       "      <td>NaN</td>\n",
       "      <td>Toy Story</td>\n",
       "      <td>7.7</td>\n",
       "      <td>5415.0</td>\n",
       "      <td>Toy Story Collection</td>\n",
       "      <td>[Animation, Comedy, Family]</td>\n",
       "      <td>[Pixar Animation Studios]</td>\n",
       "      <td>[United States of America]</td>\n",
       "      <td>[English]</td>\n",
       "      <td>1995</td>\n",
       "    </tr>\n",
       "    <tr>\n",
       "      <th>1</th>\n",
       "      <td>65000000</td>\n",
       "      <td>8844</td>\n",
       "      <td>en</td>\n",
       "      <td>When siblings Judy and Peter discover an encha...</td>\n",
       "      <td>17.015539</td>\n",
       "      <td>1995-12-15</td>\n",
       "      <td>262797249.0</td>\n",
       "      <td>104.0</td>\n",
       "      <td>Released</td>\n",
       "      <td>Roll the dice and unleash the excitement!</td>\n",
       "      <td>Jumanji</td>\n",
       "      <td>6.9</td>\n",
       "      <td>2413.0</td>\n",
       "      <td>NaN</td>\n",
       "      <td>[Adventure, Fantasy, Family]</td>\n",
       "      <td>[TriStar Pictures, Teitler Film, Interscope Co...</td>\n",
       "      <td>[United States of America]</td>\n",
       "      <td>[English, Français]</td>\n",
       "      <td>1995</td>\n",
       "    </tr>\n",
       "    <tr>\n",
       "      <th>2</th>\n",
       "      <td>0</td>\n",
       "      <td>15602</td>\n",
       "      <td>en</td>\n",
       "      <td>A family wedding reignites the ancient feud be...</td>\n",
       "      <td>11.7129</td>\n",
       "      <td>1995-12-22</td>\n",
       "      <td>0.0</td>\n",
       "      <td>101.0</td>\n",
       "      <td>Released</td>\n",
       "      <td>Still Yelling. Still Fighting. Still Ready for...</td>\n",
       "      <td>Grumpier Old Men</td>\n",
       "      <td>6.5</td>\n",
       "      <td>92.0</td>\n",
       "      <td>Grumpy Old Men Collection</td>\n",
       "      <td>[Romance, Comedy]</td>\n",
       "      <td>[Warner Bros., Lancaster Gate]</td>\n",
       "      <td>[United States of America]</td>\n",
       "      <td>[English]</td>\n",
       "      <td>1995</td>\n",
       "    </tr>\n",
       "  </tbody>\n",
       "</table>\n",
       "</div>"
      ],
      "text/plain": [
       "     budget     id original_language  \\\n",
       "0  30000000    862                en   \n",
       "1  65000000   8844                en   \n",
       "2         0  15602                en   \n",
       "\n",
       "                                            overview popularity release_date  \\\n",
       "0  Led by Woody, Andy's toys live happily in his ...  21.946943   1995-10-30   \n",
       "1  When siblings Judy and Peter discover an encha...  17.015539   1995-12-15   \n",
       "2  A family wedding reignites the ancient feud be...    11.7129   1995-12-22   \n",
       "\n",
       "       revenue  runtime    status  \\\n",
       "0  373554033.0     81.0  Released   \n",
       "1  262797249.0    104.0  Released   \n",
       "2          0.0    101.0  Released   \n",
       "\n",
       "                                             tagline             title  \\\n",
       "0                                                NaN         Toy Story   \n",
       "1          Roll the dice and unleash the excitement!           Jumanji   \n",
       "2  Still Yelling. Still Fighting. Still Ready for...  Grumpier Old Men   \n",
       "\n",
       "   vote_average  vote_count            collection_name  \\\n",
       "0           7.7      5415.0       Toy Story Collection   \n",
       "1           6.9      2413.0                        NaN   \n",
       "2           6.5        92.0  Grumpy Old Men Collection   \n",
       "\n",
       "                    genre_names  \\\n",
       "0   [Animation, Comedy, Family]   \n",
       "1  [Adventure, Fantasy, Family]   \n",
       "2             [Romance, Comedy]   \n",
       "\n",
       "                          production_companies_names  \\\n",
       "0                          [Pixar Animation Studios]   \n",
       "1  [TriStar Pictures, Teitler Film, Interscope Co...   \n",
       "2                     [Warner Bros., Lancaster Gate]   \n",
       "\n",
       "   production_countries_names spoken_languages_names  release_year  \n",
       "0  [United States of America]              [English]          1995  \n",
       "1  [United States of America]    [English, Français]          1995  \n",
       "2  [United States of America]              [English]          1995  "
      ]
     },
     "execution_count": 140,
     "metadata": {},
     "output_type": "execute_result"
    }
   ],
   "source": [
    "df_mov.head(3)"
   ]
  },
  {
   "cell_type": "markdown",
   "metadata": {},
   "source": [
    "- Crear la columna con el retorno de inversión, llamada return con los campos revenue y budget, dividiendo estas dos últimas revenue / budget, cuando no hay datos disponibles para calcularlo, deberá tomar el valor 0"
   ]
  },
  {
   "cell_type": "code",
   "execution_count": 141,
   "metadata": {},
   "outputs": [],
   "source": [
    "df_mov['revenue'] = pd.to_numeric(df_mov['revenue'], errors='coerce').fillna(0)\n",
    "df_mov['budget'] = pd.to_numeric(df_mov['budget'], errors='coerce').fillna(0)\n",
    "\n",
    "df_mov['return'] = df_mov.apply(\n",
    "    lambda row: row['revenue'] / row['budget'] if row['budget'] > 0 else 0, axis=1\n",
    ")"
   ]
  },
  {
   "cell_type": "code",
   "execution_count": 142,
   "metadata": {},
   "outputs": [
    {
     "data": {
      "text/html": [
       "<div>\n",
       "<style scoped>\n",
       "    .dataframe tbody tr th:only-of-type {\n",
       "        vertical-align: middle;\n",
       "    }\n",
       "\n",
       "    .dataframe tbody tr th {\n",
       "        vertical-align: top;\n",
       "    }\n",
       "\n",
       "    .dataframe thead th {\n",
       "        text-align: right;\n",
       "    }\n",
       "</style>\n",
       "<table border=\"1\" class=\"dataframe\">\n",
       "  <thead>\n",
       "    <tr style=\"text-align: right;\">\n",
       "      <th></th>\n",
       "      <th>budget</th>\n",
       "      <th>id</th>\n",
       "      <th>original_language</th>\n",
       "      <th>overview</th>\n",
       "      <th>popularity</th>\n",
       "      <th>release_date</th>\n",
       "      <th>revenue</th>\n",
       "      <th>runtime</th>\n",
       "      <th>status</th>\n",
       "      <th>tagline</th>\n",
       "      <th>title</th>\n",
       "      <th>vote_average</th>\n",
       "      <th>vote_count</th>\n",
       "      <th>collection_name</th>\n",
       "      <th>genre_names</th>\n",
       "      <th>production_companies_names</th>\n",
       "      <th>production_countries_names</th>\n",
       "      <th>spoken_languages_names</th>\n",
       "      <th>release_year</th>\n",
       "      <th>return</th>\n",
       "    </tr>\n",
       "  </thead>\n",
       "  <tbody>\n",
       "    <tr>\n",
       "      <th>0</th>\n",
       "      <td>30000000</td>\n",
       "      <td>862</td>\n",
       "      <td>en</td>\n",
       "      <td>Led by Woody, Andy's toys live happily in his ...</td>\n",
       "      <td>21.946943</td>\n",
       "      <td>1995-10-30</td>\n",
       "      <td>373554033.0</td>\n",
       "      <td>81.0</td>\n",
       "      <td>Released</td>\n",
       "      <td>NaN</td>\n",
       "      <td>Toy Story</td>\n",
       "      <td>7.7</td>\n",
       "      <td>5415.0</td>\n",
       "      <td>Toy Story Collection</td>\n",
       "      <td>[Animation, Comedy, Family]</td>\n",
       "      <td>[Pixar Animation Studios]</td>\n",
       "      <td>[United States of America]</td>\n",
       "      <td>[English]</td>\n",
       "      <td>1995</td>\n",
       "      <td>12.451801</td>\n",
       "    </tr>\n",
       "    <tr>\n",
       "      <th>1</th>\n",
       "      <td>65000000</td>\n",
       "      <td>8844</td>\n",
       "      <td>en</td>\n",
       "      <td>When siblings Judy and Peter discover an encha...</td>\n",
       "      <td>17.015539</td>\n",
       "      <td>1995-12-15</td>\n",
       "      <td>262797249.0</td>\n",
       "      <td>104.0</td>\n",
       "      <td>Released</td>\n",
       "      <td>Roll the dice and unleash the excitement!</td>\n",
       "      <td>Jumanji</td>\n",
       "      <td>6.9</td>\n",
       "      <td>2413.0</td>\n",
       "      <td>NaN</td>\n",
       "      <td>[Adventure, Fantasy, Family]</td>\n",
       "      <td>[TriStar Pictures, Teitler Film, Interscope Co...</td>\n",
       "      <td>[United States of America]</td>\n",
       "      <td>[English, Français]</td>\n",
       "      <td>1995</td>\n",
       "      <td>4.043035</td>\n",
       "    </tr>\n",
       "    <tr>\n",
       "      <th>2</th>\n",
       "      <td>0</td>\n",
       "      <td>15602</td>\n",
       "      <td>en</td>\n",
       "      <td>A family wedding reignites the ancient feud be...</td>\n",
       "      <td>11.7129</td>\n",
       "      <td>1995-12-22</td>\n",
       "      <td>0.0</td>\n",
       "      <td>101.0</td>\n",
       "      <td>Released</td>\n",
       "      <td>Still Yelling. Still Fighting. Still Ready for...</td>\n",
       "      <td>Grumpier Old Men</td>\n",
       "      <td>6.5</td>\n",
       "      <td>92.0</td>\n",
       "      <td>Grumpy Old Men Collection</td>\n",
       "      <td>[Romance, Comedy]</td>\n",
       "      <td>[Warner Bros., Lancaster Gate]</td>\n",
       "      <td>[United States of America]</td>\n",
       "      <td>[English]</td>\n",
       "      <td>1995</td>\n",
       "      <td>0.000000</td>\n",
       "    </tr>\n",
       "  </tbody>\n",
       "</table>\n",
       "</div>"
      ],
      "text/plain": [
       "     budget     id original_language  \\\n",
       "0  30000000    862                en   \n",
       "1  65000000   8844                en   \n",
       "2         0  15602                en   \n",
       "\n",
       "                                            overview popularity release_date  \\\n",
       "0  Led by Woody, Andy's toys live happily in his ...  21.946943   1995-10-30   \n",
       "1  When siblings Judy and Peter discover an encha...  17.015539   1995-12-15   \n",
       "2  A family wedding reignites the ancient feud be...    11.7129   1995-12-22   \n",
       "\n",
       "       revenue  runtime    status  \\\n",
       "0  373554033.0     81.0  Released   \n",
       "1  262797249.0    104.0  Released   \n",
       "2          0.0    101.0  Released   \n",
       "\n",
       "                                             tagline             title  \\\n",
       "0                                                NaN         Toy Story   \n",
       "1          Roll the dice and unleash the excitement!           Jumanji   \n",
       "2  Still Yelling. Still Fighting. Still Ready for...  Grumpier Old Men   \n",
       "\n",
       "   vote_average  vote_count            collection_name  \\\n",
       "0           7.7      5415.0       Toy Story Collection   \n",
       "1           6.9      2413.0                        NaN   \n",
       "2           6.5        92.0  Grumpy Old Men Collection   \n",
       "\n",
       "                    genre_names  \\\n",
       "0   [Animation, Comedy, Family]   \n",
       "1  [Adventure, Fantasy, Family]   \n",
       "2             [Romance, Comedy]   \n",
       "\n",
       "                          production_companies_names  \\\n",
       "0                          [Pixar Animation Studios]   \n",
       "1  [TriStar Pictures, Teitler Film, Interscope Co...   \n",
       "2                     [Warner Bros., Lancaster Gate]   \n",
       "\n",
       "   production_countries_names spoken_languages_names  release_year     return  \n",
       "0  [United States of America]              [English]          1995  12.451801  \n",
       "1  [United States of America]    [English, Français]          1995   4.043035  \n",
       "2  [United States of America]              [English]          1995   0.000000  "
      ]
     },
     "execution_count": 142,
     "metadata": {},
     "output_type": "execute_result"
    }
   ],
   "source": [
    "df_mov.head(3)"
   ]
  },
  {
   "cell_type": "code",
   "execution_count": 143,
   "metadata": {},
   "outputs": [
    {
     "name": "stdout",
     "output_type": "stream",
     "text": [
      "<class 'pandas.core.frame.DataFrame'>\n",
      "Index: 42196 entries, 0 to 42277\n",
      "Data columns (total 20 columns):\n",
      " #   Column                      Non-Null Count  Dtype         \n",
      "---  ------                      --------------  -----         \n",
      " 0   budget                      42196 non-null  int64         \n",
      " 1   id                          42196 non-null  object        \n",
      " 2   original_language           42185 non-null  object        \n",
      " 3   overview                    41294 non-null  object        \n",
      " 4   popularity                  42196 non-null  object        \n",
      " 5   release_date                42196 non-null  datetime64[ns]\n",
      " 6   revenue                     42196 non-null  float64       \n",
      " 7   runtime                     41957 non-null  float64       \n",
      " 8   status                      42121 non-null  object        \n",
      " 9   tagline                     19039 non-null  object        \n",
      " 10  title                       42196 non-null  object        \n",
      " 11  vote_average                42196 non-null  float64       \n",
      " 12  vote_count                  42196 non-null  float64       \n",
      " 13  collection_name             4356 non-null   object        \n",
      " 14  genre_names                 42196 non-null  object        \n",
      " 15  production_companies_names  42196 non-null  object        \n",
      " 16  production_countries_names  42196 non-null  object        \n",
      " 17  spoken_languages_names      42196 non-null  object        \n",
      " 18  release_year                42196 non-null  int32         \n",
      " 19  return                      42196 non-null  float64       \n",
      "dtypes: datetime64[ns](1), float64(5), int32(1), int64(1), object(12)\n",
      "memory usage: 6.6+ MB\n"
     ]
    }
   ],
   "source": [
    "df_mov.info()"
   ]
  },
  {
   "cell_type": "markdown",
   "metadata": {},
   "source": [
    "EVALUAR DUPLICADOS"
   ]
  },
  {
   "cell_type": "code",
   "execution_count": 144,
   "metadata": {},
   "outputs": [
    {
     "name": "stderr",
     "output_type": "stream",
     "text": [
      "C:\\Users\\LP\\AppData\\Local\\Temp\\ipykernel_5900\\1674215437.py:1: FutureWarning: DataFrame.applymap has been deprecated. Use DataFrame.map instead.\n",
      "  df_mov = df_mov.applymap(lambda x: str(x) if isinstance(x, list) else x)\n"
     ]
    }
   ],
   "source": [
    "df_mov = df_mov.applymap(lambda x: str(x) if isinstance(x, list) else x)"
   ]
  },
  {
   "cell_type": "code",
   "execution_count": 145,
   "metadata": {},
   "outputs": [],
   "source": [
    "duplicados = df_mov.duplicated().sum()"
   ]
  },
  {
   "cell_type": "code",
   "execution_count": 146,
   "metadata": {},
   "outputs": [
    {
     "data": {
      "text/plain": [
       "0"
      ]
     },
     "execution_count": 146,
     "metadata": {},
     "output_type": "execute_result"
    }
   ],
   "source": [
    "duplicados"
   ]
  },
  {
   "cell_type": "markdown",
   "metadata": {},
   "source": [
    "- No hay valores duplicados que eliminar"
   ]
  },
  {
   "cell_type": "markdown",
   "metadata": {},
   "source": [
    "EVALUAR OUTLIERS"
   ]
  },
  {
   "cell_type": "code",
   "execution_count": 147,
   "metadata": {},
   "outputs": [
    {
     "name": "stdout",
     "output_type": "stream",
     "text": [
      "\n",
      "--- Evaluando outliers para la columna: budget ---\n",
      "Outliers detectados con IQR en 'budget': 8256\n",
      "Outliers detectados con Z-Score en 'budget': 871\n"
     ]
    },
    {
     "data": {
      "image/png": "[encoded data removed]",
      "text/plain": [
       "<Figure size 1000x500 with 1 Axes>"
      ]
     },
     "metadata": {},
     "output_type": "display_data"
    },
    {
     "name": "stdout",
     "output_type": "stream",
     "text": [
      "\n",
      "--- Evaluando outliers para la columna: revenue ---\n",
      "Outliers detectados con IQR en 'revenue': 6943\n",
      "Outliers detectados con Z-Score en 'revenue': 615\n"
     ]
    },
    {
     "data": {
      "image/png": "[encoded data removed]",
      "text/plain": [
       "<Figure size 1000x500 with 1 Axes>"
      ]
     },
     "metadata": {},
     "output_type": "display_data"
    },
    {
     "name": "stdout",
     "output_type": "stream",
     "text": [
      "\n",
      "--- Evaluando outliers para la columna: runtime ---\n",
      "Outliers detectados con IQR en 'runtime': 4973\n",
      "Outliers detectados con Z-Score en 'runtime': 0\n"
     ]
    },
    {
     "data": {
      "image/png": "[encoded data removed]",
      "text/plain": [
       "<Figure size 1000x500 with 1 Axes>"
      ]
     },
     "metadata": {},
     "output_type": "display_data"
    },
    {
     "name": "stdout",
     "output_type": "stream",
     "text": [
      "\n",
      "--- Evaluando outliers para la columna: vote_average ---\n",
      "Outliers detectados con IQR en 'vote_average': 3317\n",
      "Outliers detectados con Z-Score en 'vote_average': 0\n"
     ]
    },
    {
     "data": {
      "image/png": "[encoded data removed]",
      "text/plain": [
       "<Figure size 1000x500 with 1 Axes>"
      ]
     },
     "metadata": {},
     "output_type": "display_data"
    },
    {
     "name": "stdout",
     "output_type": "stream",
     "text": [
      "\n",
      "--- Evaluando outliers para la columna: vote_count ---\n",
      "Outliers detectados con IQR en 'vote_count': 6256\n",
      "Outliers detectados con Z-Score en 'vote_count': 633\n"
     ]
    },
    {
     "data": {
      "image/png": "[encoded data removed]",
      "text/plain": [
       "<Figure size 1000x500 with 1 Axes>"
      ]
     },
     "metadata": {},
     "output_type": "display_data"
    },
    {
     "name": "stdout",
     "output_type": "stream",
     "text": [
      "\n",
      "--- Evaluando outliers para la columna: return ---\n",
      "Outliers detectados con IQR en 'return': 5020\n",
      "Outliers detectados con Z-Score en 'return': 6\n"
     ]
    },
    {
     "data": {
      "image/png": "[encoded data removed]",
      "text/plain": [
       "<Figure size 1000x500 with 1 Axes>"
      ]
     },
     "metadata": {},
     "output_type": "display_data"
    },
    {
     "name": "stdout",
     "output_type": "stream",
     "text": [
      "\n",
      "Resumen de Outliers Detectados:\n",
      "budget: {'IQR Outliers': 8256, 'Z-Score Outliers': 871}\n",
      "revenue: {'IQR Outliers': 6943, 'Z-Score Outliers': 615}\n",
      "runtime: {'IQR Outliers': 4973, 'Z-Score Outliers': 0}\n",
      "vote_average: {'IQR Outliers': 3317, 'Z-Score Outliers': 0}\n",
      "vote_count: {'IQR Outliers': 6256, 'Z-Score Outliers': 633}\n",
      "return: {'IQR Outliers': 5020, 'Z-Score Outliers': 6}\n"
     ]
    }
   ],
   "source": [
    "# Columnas numéricas relevantes para evaluar outliers\n",
    "numeric_columns = ['budget', 'revenue', 'runtime', 'vote_average', 'vote_count', 'return']\n",
    "\n",
    "# Resultados para almacenamiento de outliers\n",
    "outliers_summary = {}\n",
    "\n",
    "# Evaluación de outliers con IQR y Z-Score\n",
    "for col in numeric_columns:\n",
    "    print(f\"\\n--- Evaluando outliers para la columna: {col} ---\")\n",
    "    \n",
    "    # Cálculo del Rango Intercuartil (IQR)\n",
    "    Q1 = df_mov[col].quantile(0.25)\n",
    "    Q3 = df_mov[col].quantile(0.75)\n",
    "    IQR = Q3 - Q1\n",
    "    lower_bound = Q1 - 1.5 * IQR\n",
    "    upper_bound = Q3 + 1.5 * IQR\n",
    "    \n",
    "    # Identificación de outliers\n",
    "    iqr_outliers = df_mov[(df_mov[col] < lower_bound) | (df_mov[col] > upper_bound)]\n",
    "    print(f\"Outliers detectados con IQR en '{col}': {len(iqr_outliers)}\")\n",
    "    \n",
    "    # Cálculo de Z-Scores\n",
    "    df_mov[f'{col}_zscore'] = zscore(df_mov[col])\n",
    "    z_outliers = df_mov[(df_mov[f'{col}_zscore'] > 3) | (df_mov[f'{col}_zscore'] < -3)]\n",
    "    print(f\"Outliers detectados con Z-Score en '{col}': {len(z_outliers)}\")\n",
    "    \n",
    "    # Almacenar resultados\n",
    "    outliers_summary[col] = {\n",
    "        'IQR Outliers': len(iqr_outliers),\n",
    "        'Z-Score Outliers': len(z_outliers)\n",
    "    }\n",
    "    \n",
    "    # Visualización con Boxplot\n",
    "    plt.figure(figsize=(10, 5))\n",
    "    plt.boxplot(df_mov[col].dropna(), vert=False)\n",
    "    plt.title(f\"Boxplot para {col}\")\n",
    "    plt.xlabel(col)\n",
    "    plt.show()\n",
    "\n",
    "# Mostrar Resumen de Outliers\n",
    "print(\"\\nResumen de Outliers Detectados:\")\n",
    "for col, summary in outliers_summary.items():\n",
    "    print(f\"{col}: {summary}\")\n",
    "\n",
    "\n",
    "columnas_a_eliminar = ['budget_zscore','revenue_zscore','runtime_zscore','vote_average_zscore','vote_count_zscore','return_zscore']\n",
    "df_mov = df_mov.drop(columns=columnas_a_eliminar)\n"
   ]
  },
  {
   "cell_type": "markdown",
   "metadata": {},
   "source": [
    "- De acuerdo a los outliers detectados, realizamos las siguientes acciones"
   ]
  },
  {
   "cell_type": "code",
   "execution_count": 148,
   "metadata": {},
   "outputs": [],
   "source": [
    "# Manejar 'budget'\n",
    "df_mov['budget_log'] = np.log1p(df_mov['budget'])  # Transformación logarítmica\n",
    "# Filtrar presupuestos irreales (ejemplo: negativos o extremadamente bajos)\n",
    "df_mov = df_mov[df_mov['budget'] > 0]\n",
    "\n",
    "# Manejar 'revenue'\n",
    "# Filtrar ingresos irreales (ejemplo: negativos)\n",
    "df_mov = df_mov[df_mov['revenue'] >= 0]\n",
    "\n",
    "# Manejar 'runtime'\n",
    "# Filtrar duraciones fuera de un rango razonable\n",
    "df_mov = df_mov[(df_mov['runtime'] > 10) & (df_mov['runtime'] < 300)]\n",
    "\n",
    "# Manejar 'vote_average'\n",
    "# Escalar el promedio de votos entre 0 y 1\n",
    "scaler = MinMaxScaler()\n",
    "df_mov['vote_average_scaled'] = scaler.fit_transform(df_mov[['vote_average']])\n",
    "\n",
    "# Manejar 'vote_count'\n",
    "# Filtrar películas con muy pocos votos (irrelevantes)\n",
    "df_mov = df_mov[df_mov['vote_count'] >= 10]\n",
    "\n",
    "# Manejar 'return'\n",
    "# Filtrar retornos negativos o irreales\n",
    "df_mov = df_mov[df_mov['return'] >= 0]\n",
    "\n",
    "columnas_a_eliminar = ['budget_log','vote_average_scaled']\n",
    "df_mov = df_mov.drop(columns=columnas_a_eliminar)"
   ]
  },
  {
   "cell_type": "markdown",
   "metadata": {},
   "source": [
    "EVALUAR NULOS"
   ]
  },
  {
   "cell_type": "code",
   "execution_count": 149,
   "metadata": {},
   "outputs": [],
   "source": [
    "valores_nulos = df_mov.isnull().sum()"
   ]
  },
  {
   "cell_type": "code",
   "execution_count": 150,
   "metadata": {},
   "outputs": [
    {
     "data": {
      "text/plain": [
       "budget                           0\n",
       "id                               0\n",
       "original_language                0\n",
       "overview                         4\n",
       "popularity                       0\n",
       "release_date                     0\n",
       "revenue                          0\n",
       "runtime                          0\n",
       "status                           0\n",
       "tagline                       1331\n",
       "title                            0\n",
       "vote_average                     0\n",
       "vote_count                       0\n",
       "collection_name               5540\n",
       "genre_names                      0\n",
       "production_companies_names       0\n",
       "production_countries_names       0\n",
       "spoken_languages_names           0\n",
       "release_year                     0\n",
       "return                           0\n",
       "dtype: int64"
      ]
     },
     "execution_count": 150,
     "metadata": {},
     "output_type": "execute_result"
    }
   ],
   "source": [
    "valores_nulos"
   ]
  },
  {
   "cell_type": "markdown",
   "metadata": {},
   "source": [
    "- Vemos que overview, tagline y collection_name presentan valores nulos, lo evaluamos y tomamos accion sobre ellos"
   ]
  },
  {
   "cell_type": "markdown",
   "metadata": {},
   "source": [
    "overview"
   ]
  },
  {
   "cell_type": "code",
   "execution_count": 151,
   "metadata": {},
   "outputs": [],
   "source": [
    "nulos_overview = df_mov[df_mov['overview'].isnull()]"
   ]
  },
  {
   "cell_type": "code",
   "execution_count": 152,
   "metadata": {},
   "outputs": [
    {
     "data": {
      "text/html": [
       "<div>\n",
       "<style scoped>\n",
       "    .dataframe tbody tr th:only-of-type {\n",
       "        vertical-align: middle;\n",
       "    }\n",
       "\n",
       "    .dataframe tbody tr th {\n",
       "        vertical-align: top;\n",
       "    }\n",
       "\n",
       "    .dataframe thead th {\n",
       "        text-align: right;\n",
       "    }\n",
       "</style>\n",
       "<table border=\"1\" class=\"dataframe\">\n",
       "  <thead>\n",
       "    <tr style=\"text-align: right;\">\n",
       "      <th></th>\n",
       "      <th>budget</th>\n",
       "      <th>id</th>\n",
       "      <th>original_language</th>\n",
       "      <th>overview</th>\n",
       "      <th>popularity</th>\n",
       "      <th>release_date</th>\n",
       "      <th>revenue</th>\n",
       "      <th>runtime</th>\n",
       "      <th>status</th>\n",
       "      <th>tagline</th>\n",
       "      <th>title</th>\n",
       "      <th>vote_average</th>\n",
       "      <th>vote_count</th>\n",
       "      <th>collection_name</th>\n",
       "      <th>genre_names</th>\n",
       "      <th>production_companies_names</th>\n",
       "      <th>production_countries_names</th>\n",
       "      <th>spoken_languages_names</th>\n",
       "      <th>release_year</th>\n",
       "      <th>return</th>\n",
       "    </tr>\n",
       "  </thead>\n",
       "  <tbody>\n",
       "    <tr>\n",
       "      <th>12498</th>\n",
       "      <td>1300000</td>\n",
       "      <td>22554</td>\n",
       "      <td>fi</td>\n",
       "      <td>NaN</td>\n",
       "      <td>1.063304</td>\n",
       "      <td>2008-09-12</td>\n",
       "      <td>0.0</td>\n",
       "      <td>104.0</td>\n",
       "      <td>Released</td>\n",
       "      <td>NaN</td>\n",
       "      <td>The Subtenant</td>\n",
       "      <td>5.0</td>\n",
       "      <td>11.0</td>\n",
       "      <td>NaN</td>\n",
       "      <td>['Comedy']</td>\n",
       "      <td>['Porkkana Ryhmä', 'Solar Films inc.']</td>\n",
       "      <td>['Finland']</td>\n",
       "      <td>['suomi']</td>\n",
       "      <td>2008</td>\n",
       "      <td>0.0</td>\n",
       "    </tr>\n",
       "    <tr>\n",
       "      <th>23725</th>\n",
       "      <td>8806000</td>\n",
       "      <td>129966</td>\n",
       "      <td>fr</td>\n",
       "      <td>NaN</td>\n",
       "      <td>1.125103</td>\n",
       "      <td>2012-08-29</td>\n",
       "      <td>0.0</td>\n",
       "      <td>89.0</td>\n",
       "      <td>Released</td>\n",
       "      <td>NaN</td>\n",
       "      <td>David et Madame Hansen</td>\n",
       "      <td>6.7</td>\n",
       "      <td>14.0</td>\n",
       "      <td>NaN</td>\n",
       "      <td>['Comedy', 'Drama']</td>\n",
       "      <td>['Canal+', 'Pathé']</td>\n",
       "      <td>['France']</td>\n",
       "      <td>['Français']</td>\n",
       "      <td>2012</td>\n",
       "      <td>0.0</td>\n",
       "    </tr>\n",
       "    <tr>\n",
       "      <th>29579</th>\n",
       "      <td>5000000</td>\n",
       "      <td>77000</td>\n",
       "      <td>it</td>\n",
       "      <td>NaN</td>\n",
       "      <td>2.585503</td>\n",
       "      <td>2011-10-21</td>\n",
       "      <td>0.0</td>\n",
       "      <td>93.0</td>\n",
       "      <td>Released</td>\n",
       "      <td>NaN</td>\n",
       "      <td>Bar Sport</td>\n",
       "      <td>4.7</td>\n",
       "      <td>47.0</td>\n",
       "      <td>NaN</td>\n",
       "      <td>['Comedy', 'Family']</td>\n",
       "      <td>['nan']</td>\n",
       "      <td>['Italy']</td>\n",
       "      <td>['Italiano']</td>\n",
       "      <td>2011</td>\n",
       "      <td>0.0</td>\n",
       "    </tr>\n",
       "    <tr>\n",
       "      <th>32552</th>\n",
       "      <td>20000</td>\n",
       "      <td>30634</td>\n",
       "      <td>tr</td>\n",
       "      <td>NaN</td>\n",
       "      <td>2.458282</td>\n",
       "      <td>2005-12-22</td>\n",
       "      <td>0.0</td>\n",
       "      <td>106.0</td>\n",
       "      <td>Released</td>\n",
       "      <td>NaN</td>\n",
       "      <td>Organize İşler</td>\n",
       "      <td>6.2</td>\n",
       "      <td>13.0</td>\n",
       "      <td>NaN</td>\n",
       "      <td>['Comedy']</td>\n",
       "      <td>['nan']</td>\n",
       "      <td>[]</td>\n",
       "      <td>[]</td>\n",
       "      <td>2005</td>\n",
       "      <td>0.0</td>\n",
       "    </tr>\n",
       "  </tbody>\n",
       "</table>\n",
       "</div>"
      ],
      "text/plain": [
       "        budget      id original_language overview popularity release_date  \\\n",
       "12498  1300000   22554                fi      NaN   1.063304   2008-09-12   \n",
       "23725  8806000  129966                fr      NaN   1.125103   2012-08-29   \n",
       "29579  5000000   77000                it      NaN   2.585503   2011-10-21   \n",
       "32552    20000   30634                tr      NaN   2.458282   2005-12-22   \n",
       "\n",
       "       revenue  runtime    status tagline                   title  \\\n",
       "12498      0.0    104.0  Released     NaN           The Subtenant   \n",
       "23725      0.0     89.0  Released     NaN  David et Madame Hansen   \n",
       "29579      0.0     93.0  Released     NaN               Bar Sport   \n",
       "32552      0.0    106.0  Released     NaN          Organize İşler   \n",
       "\n",
       "       vote_average  vote_count collection_name           genre_names  \\\n",
       "12498           5.0        11.0             NaN            ['Comedy']   \n",
       "23725           6.7        14.0             NaN   ['Comedy', 'Drama']   \n",
       "29579           4.7        47.0             NaN  ['Comedy', 'Family']   \n",
       "32552           6.2        13.0             NaN            ['Comedy']   \n",
       "\n",
       "                   production_companies_names production_countries_names  \\\n",
       "12498  ['Porkkana Ryhmä', 'Solar Films inc.']                ['Finland']   \n",
       "23725                     ['Canal+', 'Pathé']                 ['France']   \n",
       "29579                                 ['nan']                  ['Italy']   \n",
       "32552                                 ['nan']                         []   \n",
       "\n",
       "      spoken_languages_names  release_year  return  \n",
       "12498              ['suomi']          2008     0.0  \n",
       "23725           ['Français']          2012     0.0  \n",
       "29579           ['Italiano']          2011     0.0  \n",
       "32552                     []          2005     0.0  "
      ]
     },
     "execution_count": 152,
     "metadata": {},
     "output_type": "execute_result"
    }
   ],
   "source": [
    "nulos_overview"
   ]
  },
  {
   "cell_type": "markdown",
   "metadata": {},
   "source": [
    "- Al ser poco representativos, procedemos a eliminarlos"
   ]
  },
  {
   "cell_type": "code",
   "execution_count": 153,
   "metadata": {},
   "outputs": [],
   "source": [
    "df_mov = df_mov.dropna(subset=['overview'])"
   ]
  },
  {
   "cell_type": "markdown",
   "metadata": {},
   "source": [
    "tagline"
   ]
  },
  {
   "cell_type": "code",
   "execution_count": 154,
   "metadata": {},
   "outputs": [],
   "source": [
    "nulos_tagline = df_mov[df_mov['tagline'].isnull()]"
   ]
  },
  {
   "cell_type": "code",
   "execution_count": 155,
   "metadata": {},
   "outputs": [
    {
     "data": {
      "text/html": [
       "<div>\n",
       "<style scoped>\n",
       "    .dataframe tbody tr th:only-of-type {\n",
       "        vertical-align: middle;\n",
       "    }\n",
       "\n",
       "    .dataframe tbody tr th {\n",
       "        vertical-align: top;\n",
       "    }\n",
       "\n",
       "    .dataframe thead th {\n",
       "        text-align: right;\n",
       "    }\n",
       "</style>\n",
       "<table border=\"1\" class=\"dataframe\">\n",
       "  <thead>\n",
       "    <tr style=\"text-align: right;\">\n",
       "      <th></th>\n",
       "      <th>budget</th>\n",
       "      <th>id</th>\n",
       "      <th>original_language</th>\n",
       "      <th>overview</th>\n",
       "      <th>popularity</th>\n",
       "      <th>release_date</th>\n",
       "      <th>revenue</th>\n",
       "      <th>runtime</th>\n",
       "      <th>status</th>\n",
       "      <th>tagline</th>\n",
       "      <th>title</th>\n",
       "      <th>vote_average</th>\n",
       "      <th>vote_count</th>\n",
       "      <th>collection_name</th>\n",
       "      <th>genre_names</th>\n",
       "      <th>production_companies_names</th>\n",
       "      <th>production_countries_names</th>\n",
       "      <th>spoken_languages_names</th>\n",
       "      <th>release_year</th>\n",
       "      <th>return</th>\n",
       "    </tr>\n",
       "  </thead>\n",
       "  <tbody>\n",
       "    <tr>\n",
       "      <th>0</th>\n",
       "      <td>30000000</td>\n",
       "      <td>862</td>\n",
       "      <td>en</td>\n",
       "      <td>Led by Woody, Andy's toys live happily in his ...</td>\n",
       "      <td>21.946943</td>\n",
       "      <td>1995-10-30</td>\n",
       "      <td>373554033.0</td>\n",
       "      <td>81.0</td>\n",
       "      <td>Released</td>\n",
       "      <td>NaN</td>\n",
       "      <td>Toy Story</td>\n",
       "      <td>7.7</td>\n",
       "      <td>5415.0</td>\n",
       "      <td>Toy Story Collection</td>\n",
       "      <td>['Animation', 'Comedy', 'Family']</td>\n",
       "      <td>['Pixar Animation Studios']</td>\n",
       "      <td>['United States of America']</td>\n",
       "      <td>['English']</td>\n",
       "      <td>1995</td>\n",
       "      <td>12.451801</td>\n",
       "    </tr>\n",
       "    <tr>\n",
       "      <th>35</th>\n",
       "      <td>11000000</td>\n",
       "      <td>687</td>\n",
       "      <td>en</td>\n",
       "      <td>A justice drama based on a true story about a ...</td>\n",
       "      <td>6.891317</td>\n",
       "      <td>1995-12-29</td>\n",
       "      <td>39363635.0</td>\n",
       "      <td>122.0</td>\n",
       "      <td>Released</td>\n",
       "      <td>NaN</td>\n",
       "      <td>Dead Man Walking</td>\n",
       "      <td>7.3</td>\n",
       "      <td>350.0</td>\n",
       "      <td>NaN</td>\n",
       "      <td>['Drama']</td>\n",
       "      <td>['Havoc', 'PolyGram Filmed Entertainment', 'Wo...</td>\n",
       "      <td>['United States of America', 'United Kingdom']</td>\n",
       "      <td>['English']</td>\n",
       "      <td>1995</td>\n",
       "      <td>3.578512</td>\n",
       "    </tr>\n",
       "    <tr>\n",
       "      <th>42</th>\n",
       "      <td>19000000</td>\n",
       "      <td>35196</td>\n",
       "      <td>en</td>\n",
       "      <td>An aspiring young physician, Robert Merivel fo...</td>\n",
       "      <td>10.979269</td>\n",
       "      <td>1995-12-29</td>\n",
       "      <td>0.0</td>\n",
       "      <td>117.0</td>\n",
       "      <td>Released</td>\n",
       "      <td>NaN</td>\n",
       "      <td>Restoration</td>\n",
       "      <td>6.3</td>\n",
       "      <td>30.0</td>\n",
       "      <td>NaN</td>\n",
       "      <td>['Drama', 'Romance']</td>\n",
       "      <td>['Miramax Films', 'nan']</td>\n",
       "      <td>['United States of America']</td>\n",
       "      <td>['English', 'Español']</td>\n",
       "      <td>1995</td>\n",
       "      <td>0.000000</td>\n",
       "    </tr>\n",
       "    <tr>\n",
       "      <th>51</th>\n",
       "      <td>15000000</td>\n",
       "      <td>11448</td>\n",
       "      <td>en</td>\n",
       "      <td>When Lenny and his wife, Amanda, adopt a baby,...</td>\n",
       "      <td>15.899134</td>\n",
       "      <td>1995-09-13</td>\n",
       "      <td>6700000.0</td>\n",
       "      <td>95.0</td>\n",
       "      <td>Released</td>\n",
       "      <td>NaN</td>\n",
       "      <td>Mighty Aphrodite</td>\n",
       "      <td>6.7</td>\n",
       "      <td>145.0</td>\n",
       "      <td>NaN</td>\n",
       "      <td>['Comedy', 'Romance']</td>\n",
       "      <td>['Miramax Films', 'Magnolia Pictures']</td>\n",
       "      <td>['United States of America']</td>\n",
       "      <td>['English']</td>\n",
       "      <td>1995</td>\n",
       "      <td>0.446667</td>\n",
       "    </tr>\n",
       "    <tr>\n",
       "      <th>59</th>\n",
       "      <td>45000000</td>\n",
       "      <td>11359</td>\n",
       "      <td>en</td>\n",
       "      <td>A nine-year-old boy gets a plastic Indian and ...</td>\n",
       "      <td>10.673296</td>\n",
       "      <td>1995-07-14</td>\n",
       "      <td>0.0</td>\n",
       "      <td>96.0</td>\n",
       "      <td>Released</td>\n",
       "      <td>NaN</td>\n",
       "      <td>The Indian in the Cupboard</td>\n",
       "      <td>5.9</td>\n",
       "      <td>136.0</td>\n",
       "      <td>NaN</td>\n",
       "      <td>['Adventure', 'Family', 'Fantasy']</td>\n",
       "      <td>['Paramount Pictures', 'Columbia Pictures Corp...</td>\n",
       "      <td>['United States of America']</td>\n",
       "      <td>['English']</td>\n",
       "      <td>1995</td>\n",
       "      <td>0.000000</td>\n",
       "    </tr>\n",
       "    <tr>\n",
       "      <th>...</th>\n",
       "      <td>...</td>\n",
       "      <td>...</td>\n",
       "      <td>...</td>\n",
       "      <td>...</td>\n",
       "      <td>...</td>\n",
       "      <td>...</td>\n",
       "      <td>...</td>\n",
       "      <td>...</td>\n",
       "      <td>...</td>\n",
       "      <td>...</td>\n",
       "      <td>...</td>\n",
       "      <td>...</td>\n",
       "      <td>...</td>\n",
       "      <td>...</td>\n",
       "      <td>...</td>\n",
       "      <td>...</td>\n",
       "      <td>...</td>\n",
       "      <td>...</td>\n",
       "      <td>...</td>\n",
       "      <td>...</td>\n",
       "    </tr>\n",
       "    <tr>\n",
       "      <th>41885</th>\n",
       "      <td>15000000</td>\n",
       "      <td>460846</td>\n",
       "      <td>en</td>\n",
       "      <td>An ex-special services veteran, down on his lu...</td>\n",
       "      <td>47.114366</td>\n",
       "      <td>2017-03-04</td>\n",
       "      <td>0.0</td>\n",
       "      <td>87.0</td>\n",
       "      <td>Released</td>\n",
       "      <td>NaN</td>\n",
       "      <td>Security</td>\n",
       "      <td>6.0</td>\n",
       "      <td>113.0</td>\n",
       "      <td>NaN</td>\n",
       "      <td>['Action']</td>\n",
       "      <td>['Nu Image / Millennium Films', 'Nu Boyana Fil...</td>\n",
       "      <td>['United States of America']</td>\n",
       "      <td>['English']</td>\n",
       "      <td>2017</td>\n",
       "      <td>0.000000</td>\n",
       "    </tr>\n",
       "    <tr>\n",
       "      <th>42084</th>\n",
       "      <td>12000000</td>\n",
       "      <td>24049</td>\n",
       "      <td>ta</td>\n",
       "      <td>Corrupt police and politicians target a comput...</td>\n",
       "      <td>1.323587</td>\n",
       "      <td>2007-06-14</td>\n",
       "      <td>19000000.0</td>\n",
       "      <td>185.0</td>\n",
       "      <td>Released</td>\n",
       "      <td>NaN</td>\n",
       "      <td>Sivaji: The Boss</td>\n",
       "      <td>6.9</td>\n",
       "      <td>25.0</td>\n",
       "      <td>NaN</td>\n",
       "      <td>['Action', 'Comedy', 'Drama']</td>\n",
       "      <td>['AVM Productions']</td>\n",
       "      <td>['India']</td>\n",
       "      <td>['தமிழ்', 'తెలుగు']</td>\n",
       "      <td>2007</td>\n",
       "      <td>1.583333</td>\n",
       "    </tr>\n",
       "    <tr>\n",
       "      <th>42101</th>\n",
       "      <td>5402000</td>\n",
       "      <td>277839</td>\n",
       "      <td>fr</td>\n",
       "      <td>Franky and Krimo dream of leaving the grey gri...</td>\n",
       "      <td>5.613875</td>\n",
       "      <td>2016-02-24</td>\n",
       "      <td>0.0</td>\n",
       "      <td>100.0</td>\n",
       "      <td>Released</td>\n",
       "      <td>NaN</td>\n",
       "      <td>Good Guys Go to Heaven, Bad Guys Go to Pattaya</td>\n",
       "      <td>5.3</td>\n",
       "      <td>153.0</td>\n",
       "      <td>NaN</td>\n",
       "      <td>['Comedy']</td>\n",
       "      <td>['Mandarin Cinéma']</td>\n",
       "      <td>['France']</td>\n",
       "      <td>['Français']</td>\n",
       "      <td>2016</td>\n",
       "      <td>0.000000</td>\n",
       "    </tr>\n",
       "    <tr>\n",
       "      <th>42170</th>\n",
       "      <td>25868826</td>\n",
       "      <td>248705</td>\n",
       "      <td>fr</td>\n",
       "      <td>Stuck in the corridors of time, Godefroy de Mo...</td>\n",
       "      <td>7.29492</td>\n",
       "      <td>2016-03-23</td>\n",
       "      <td>0.0</td>\n",
       "      <td>110.0</td>\n",
       "      <td>Released</td>\n",
       "      <td>NaN</td>\n",
       "      <td>The Visitors: Bastille Day</td>\n",
       "      <td>4.0</td>\n",
       "      <td>167.0</td>\n",
       "      <td>The Visitors Collection</td>\n",
       "      <td>['Comedy']</td>\n",
       "      <td>['Gaumont']</td>\n",
       "      <td>['France']</td>\n",
       "      <td>['Français']</td>\n",
       "      <td>2016</td>\n",
       "      <td>0.000000</td>\n",
       "    </tr>\n",
       "    <tr>\n",
       "      <th>42178</th>\n",
       "      <td>7500000</td>\n",
       "      <td>39164</td>\n",
       "      <td>en</td>\n",
       "      <td>An American writer goes to a remote Welsh mano...</td>\n",
       "      <td>1.185515</td>\n",
       "      <td>1983-06-17</td>\n",
       "      <td>0.0</td>\n",
       "      <td>100.0</td>\n",
       "      <td>Released</td>\n",
       "      <td>NaN</td>\n",
       "      <td>House of the Long Shadows</td>\n",
       "      <td>6.1</td>\n",
       "      <td>18.0</td>\n",
       "      <td>NaN</td>\n",
       "      <td>['Horror', 'Comedy', 'Mystery']</td>\n",
       "      <td>['London-Cannon Films']</td>\n",
       "      <td>['United Kingdom']</td>\n",
       "      <td>['English']</td>\n",
       "      <td>1983</td>\n",
       "      <td>0.000000</td>\n",
       "    </tr>\n",
       "  </tbody>\n",
       "</table>\n",
       "<p>1327 rows × 20 columns</p>\n",
       "</div>"
      ],
      "text/plain": [
       "         budget      id original_language  \\\n",
       "0      30000000     862                en   \n",
       "35     11000000     687                en   \n",
       "42     19000000   35196                en   \n",
       "51     15000000   11448                en   \n",
       "59     45000000   11359                en   \n",
       "...         ...     ...               ...   \n",
       "41885  15000000  460846                en   \n",
       "42084  12000000   24049                ta   \n",
       "42101   5402000  277839                fr   \n",
       "42170  25868826  248705                fr   \n",
       "42178   7500000   39164                en   \n",
       "\n",
       "                                                overview popularity  \\\n",
       "0      Led by Woody, Andy's toys live happily in his ...  21.946943   \n",
       "35     A justice drama based on a true story about a ...   6.891317   \n",
       "42     An aspiring young physician, Robert Merivel fo...  10.979269   \n",
       "51     When Lenny and his wife, Amanda, adopt a baby,...  15.899134   \n",
       "59     A nine-year-old boy gets a plastic Indian and ...  10.673296   \n",
       "...                                                  ...        ...   \n",
       "41885  An ex-special services veteran, down on his lu...  47.114366   \n",
       "42084  Corrupt police and politicians target a comput...   1.323587   \n",
       "42101  Franky and Krimo dream of leaving the grey gri...   5.613875   \n",
       "42170  Stuck in the corridors of time, Godefroy de Mo...    7.29492   \n",
       "42178  An American writer goes to a remote Welsh mano...   1.185515   \n",
       "\n",
       "      release_date      revenue  runtime    status tagline  \\\n",
       "0       1995-10-30  373554033.0     81.0  Released     NaN   \n",
       "35      1995-12-29   39363635.0    122.0  Released     NaN   \n",
       "42      1995-12-29          0.0    117.0  Released     NaN   \n",
       "51      1995-09-13    6700000.0     95.0  Released     NaN   \n",
       "59      1995-07-14          0.0     96.0  Released     NaN   \n",
       "...            ...          ...      ...       ...     ...   \n",
       "41885   2017-03-04          0.0     87.0  Released     NaN   \n",
       "42084   2007-06-14   19000000.0    185.0  Released     NaN   \n",
       "42101   2016-02-24          0.0    100.0  Released     NaN   \n",
       "42170   2016-03-23          0.0    110.0  Released     NaN   \n",
       "42178   1983-06-17          0.0    100.0  Released     NaN   \n",
       "\n",
       "                                                title  vote_average  \\\n",
       "0                                           Toy Story           7.7   \n",
       "35                                   Dead Man Walking           7.3   \n",
       "42                                        Restoration           6.3   \n",
       "51                                   Mighty Aphrodite           6.7   \n",
       "59                         The Indian in the Cupboard           5.9   \n",
       "...                                               ...           ...   \n",
       "41885                                        Security           6.0   \n",
       "42084                                Sivaji: The Boss           6.9   \n",
       "42101  Good Guys Go to Heaven, Bad Guys Go to Pattaya           5.3   \n",
       "42170                      The Visitors: Bastille Day           4.0   \n",
       "42178                       House of the Long Shadows           6.1   \n",
       "\n",
       "       vote_count          collection_name  \\\n",
       "0          5415.0     Toy Story Collection   \n",
       "35          350.0                      NaN   \n",
       "42           30.0                      NaN   \n",
       "51          145.0                      NaN   \n",
       "59          136.0                      NaN   \n",
       "...           ...                      ...   \n",
       "41885       113.0                      NaN   \n",
       "42084        25.0                      NaN   \n",
       "42101       153.0                      NaN   \n",
       "42170       167.0  The Visitors Collection   \n",
       "42178        18.0                      NaN   \n",
       "\n",
       "                              genre_names  \\\n",
       "0       ['Animation', 'Comedy', 'Family']   \n",
       "35                              ['Drama']   \n",
       "42                   ['Drama', 'Romance']   \n",
       "51                  ['Comedy', 'Romance']   \n",
       "59     ['Adventure', 'Family', 'Fantasy']   \n",
       "...                                   ...   \n",
       "41885                          ['Action']   \n",
       "42084       ['Action', 'Comedy', 'Drama']   \n",
       "42101                          ['Comedy']   \n",
       "42170                          ['Comedy']   \n",
       "42178     ['Horror', 'Comedy', 'Mystery']   \n",
       "\n",
       "                              production_companies_names  \\\n",
       "0                            ['Pixar Animation Studios']   \n",
       "35     ['Havoc', 'PolyGram Filmed Entertainment', 'Wo...   \n",
       "42                              ['Miramax Films', 'nan']   \n",
       "51                ['Miramax Films', 'Magnolia Pictures']   \n",
       "59     ['Paramount Pictures', 'Columbia Pictures Corp...   \n",
       "...                                                  ...   \n",
       "41885  ['Nu Image / Millennium Films', 'Nu Boyana Fil...   \n",
       "42084                                ['AVM Productions']   \n",
       "42101                                ['Mandarin Cinéma']   \n",
       "42170                                        ['Gaumont']   \n",
       "42178                            ['London-Cannon Films']   \n",
       "\n",
       "                           production_countries_names  spoken_languages_names  \\\n",
       "0                        ['United States of America']             ['English']   \n",
       "35     ['United States of America', 'United Kingdom']             ['English']   \n",
       "42                       ['United States of America']  ['English', 'Español']   \n",
       "51                       ['United States of America']             ['English']   \n",
       "59                       ['United States of America']             ['English']   \n",
       "...                                               ...                     ...   \n",
       "41885                    ['United States of America']             ['English']   \n",
       "42084                                       ['India']     ['தமிழ்', 'తెలుగు']   \n",
       "42101                                      ['France']            ['Français']   \n",
       "42170                                      ['France']            ['Français']   \n",
       "42178                              ['United Kingdom']             ['English']   \n",
       "\n",
       "       release_year     return  \n",
       "0              1995  12.451801  \n",
       "35             1995   3.578512  \n",
       "42             1995   0.000000  \n",
       "51             1995   0.446667  \n",
       "59             1995   0.000000  \n",
       "...             ...        ...  \n",
       "41885          2017   0.000000  \n",
       "42084          2007   1.583333  \n",
       "42101          2016   0.000000  \n",
       "42170          2016   0.000000  \n",
       "42178          1983   0.000000  \n",
       "\n",
       "[1327 rows x 20 columns]"
      ]
     },
     "execution_count": 155,
     "metadata": {},
     "output_type": "execute_result"
    }
   ],
   "source": [
    "nulos_tagline"
   ]
  },
  {
   "cell_type": "markdown",
   "metadata": {},
   "source": [
    "- Al ser una columna poco relevanta, reemplazare los nulos por valor en blanco para no perder el resto de datos"
   ]
  },
  {
   "cell_type": "code",
   "execution_count": 156,
   "metadata": {},
   "outputs": [],
   "source": [
    "df_mov['tagline'] = df_mov['tagline'].fillna(\"\")"
   ]
  },
  {
   "cell_type": "markdown",
   "metadata": {},
   "source": [
    "collection_name"
   ]
  },
  {
   "cell_type": "code",
   "execution_count": 157,
   "metadata": {},
   "outputs": [],
   "source": [
    "nulos_collection_name = df_mov[df_mov['collection_name'].isnull()]"
   ]
  },
  {
   "cell_type": "code",
   "execution_count": 158,
   "metadata": {},
   "outputs": [
    {
     "data": {
      "text/html": [
       "<div>\n",
       "<style scoped>\n",
       "    .dataframe tbody tr th:only-of-type {\n",
       "        vertical-align: middle;\n",
       "    }\n",
       "\n",
       "    .dataframe tbody tr th {\n",
       "        vertical-align: top;\n",
       "    }\n",
       "\n",
       "    .dataframe thead th {\n",
       "        text-align: right;\n",
       "    }\n",
       "</style>\n",
       "<table border=\"1\" class=\"dataframe\">\n",
       "  <thead>\n",
       "    <tr style=\"text-align: right;\">\n",
       "      <th></th>\n",
       "      <th>budget</th>\n",
       "      <th>id</th>\n",
       "      <th>original_language</th>\n",
       "      <th>overview</th>\n",
       "      <th>popularity</th>\n",
       "      <th>release_date</th>\n",
       "      <th>revenue</th>\n",
       "      <th>runtime</th>\n",
       "      <th>status</th>\n",
       "      <th>tagline</th>\n",
       "      <th>title</th>\n",
       "      <th>vote_average</th>\n",
       "      <th>vote_count</th>\n",
       "      <th>collection_name</th>\n",
       "      <th>genre_names</th>\n",
       "      <th>production_companies_names</th>\n",
       "      <th>production_countries_names</th>\n",
       "      <th>spoken_languages_names</th>\n",
       "      <th>release_year</th>\n",
       "      <th>return</th>\n",
       "    </tr>\n",
       "  </thead>\n",
       "  <tbody>\n",
       "    <tr>\n",
       "      <th>1</th>\n",
       "      <td>65000000</td>\n",
       "      <td>8844</td>\n",
       "      <td>en</td>\n",
       "      <td>When siblings Judy and Peter discover an encha...</td>\n",
       "      <td>17.015539</td>\n",
       "      <td>1995-12-15</td>\n",
       "      <td>262797249.0</td>\n",
       "      <td>104.0</td>\n",
       "      <td>Released</td>\n",
       "      <td>Roll the dice and unleash the excitement!</td>\n",
       "      <td>Jumanji</td>\n",
       "      <td>6.9</td>\n",
       "      <td>2413.0</td>\n",
       "      <td>NaN</td>\n",
       "      <td>['Adventure', 'Fantasy', 'Family']</td>\n",
       "      <td>['TriStar Pictures', 'Teitler Film', 'Intersco...</td>\n",
       "      <td>['United States of America']</td>\n",
       "      <td>['English', 'Français']</td>\n",
       "      <td>1995</td>\n",
       "      <td>4.043035</td>\n",
       "    </tr>\n",
       "    <tr>\n",
       "      <th>3</th>\n",
       "      <td>16000000</td>\n",
       "      <td>31357</td>\n",
       "      <td>en</td>\n",
       "      <td>Cheated on, mistreated and stepped on, the wom...</td>\n",
       "      <td>3.859495</td>\n",
       "      <td>1995-12-22</td>\n",
       "      <td>81452156.0</td>\n",
       "      <td>127.0</td>\n",
       "      <td>Released</td>\n",
       "      <td>Friends are the people who let you be yourself...</td>\n",
       "      <td>Waiting to Exhale</td>\n",
       "      <td>6.1</td>\n",
       "      <td>34.0</td>\n",
       "      <td>NaN</td>\n",
       "      <td>['Comedy', 'Drama', 'Romance']</td>\n",
       "      <td>['Twentieth Century Fox Film Corporation']</td>\n",
       "      <td>['United States of America']</td>\n",
       "      <td>['English']</td>\n",
       "      <td>1995</td>\n",
       "      <td>5.090760</td>\n",
       "    </tr>\n",
       "    <tr>\n",
       "      <th>5</th>\n",
       "      <td>60000000</td>\n",
       "      <td>949</td>\n",
       "      <td>en</td>\n",
       "      <td>Obsessive master thief, Neil McCauley leads a ...</td>\n",
       "      <td>17.924927</td>\n",
       "      <td>1995-12-15</td>\n",
       "      <td>187436818.0</td>\n",
       "      <td>170.0</td>\n",
       "      <td>Released</td>\n",
       "      <td>A Los Angeles Crime Saga</td>\n",
       "      <td>Heat</td>\n",
       "      <td>7.7</td>\n",
       "      <td>1886.0</td>\n",
       "      <td>NaN</td>\n",
       "      <td>['Action', 'Crime', 'Drama', 'Thriller']</td>\n",
       "      <td>['Regency Enterprises', 'Forward Pass', 'Warne...</td>\n",
       "      <td>['United States of America']</td>\n",
       "      <td>['English', 'Español']</td>\n",
       "      <td>1995</td>\n",
       "      <td>3.123947</td>\n",
       "    </tr>\n",
       "    <tr>\n",
       "      <th>6</th>\n",
       "      <td>58000000</td>\n",
       "      <td>11860</td>\n",
       "      <td>en</td>\n",
       "      <td>An ugly duckling having undergone a remarkable...</td>\n",
       "      <td>6.677277</td>\n",
       "      <td>1995-12-15</td>\n",
       "      <td>0.0</td>\n",
       "      <td>127.0</td>\n",
       "      <td>Released</td>\n",
       "      <td>You are cordially invited to the most surprisi...</td>\n",
       "      <td>Sabrina</td>\n",
       "      <td>6.2</td>\n",
       "      <td>141.0</td>\n",
       "      <td>NaN</td>\n",
       "      <td>['Comedy', 'Romance']</td>\n",
       "      <td>['Paramount Pictures', 'Scott Rudin Production...</td>\n",
       "      <td>['Germany', 'United States of America']</td>\n",
       "      <td>['Français', 'English']</td>\n",
       "      <td>1995</td>\n",
       "      <td>0.000000</td>\n",
       "    </tr>\n",
       "    <tr>\n",
       "      <th>8</th>\n",
       "      <td>35000000</td>\n",
       "      <td>9091</td>\n",
       "      <td>en</td>\n",
       "      <td>International action superstar Jean Claude Van...</td>\n",
       "      <td>5.23158</td>\n",
       "      <td>1995-12-22</td>\n",
       "      <td>64350171.0</td>\n",
       "      <td>106.0</td>\n",
       "      <td>Released</td>\n",
       "      <td>Terror goes into overtime.</td>\n",
       "      <td>Sudden Death</td>\n",
       "      <td>5.5</td>\n",
       "      <td>174.0</td>\n",
       "      <td>NaN</td>\n",
       "      <td>['Action', 'Adventure', 'Thriller']</td>\n",
       "      <td>['Universal Pictures', 'Imperial Entertainment...</td>\n",
       "      <td>['United States of America']</td>\n",
       "      <td>['English']</td>\n",
       "      <td>1995</td>\n",
       "      <td>1.838576</td>\n",
       "    </tr>\n",
       "    <tr>\n",
       "      <th>...</th>\n",
       "      <td>...</td>\n",
       "      <td>...</td>\n",
       "      <td>...</td>\n",
       "      <td>...</td>\n",
       "      <td>...</td>\n",
       "      <td>...</td>\n",
       "      <td>...</td>\n",
       "      <td>...</td>\n",
       "      <td>...</td>\n",
       "      <td>...</td>\n",
       "      <td>...</td>\n",
       "      <td>...</td>\n",
       "      <td>...</td>\n",
       "      <td>...</td>\n",
       "      <td>...</td>\n",
       "      <td>...</td>\n",
       "      <td>...</td>\n",
       "      <td>...</td>\n",
       "      <td>...</td>\n",
       "      <td>...</td>\n",
       "    </tr>\n",
       "    <tr>\n",
       "      <th>42005</th>\n",
       "      <td>11000000</td>\n",
       "      <td>395834</td>\n",
       "      <td>en</td>\n",
       "      <td>An FBI agent teams with the town's veteran gam...</td>\n",
       "      <td>40.796775</td>\n",
       "      <td>2017-08-03</td>\n",
       "      <td>184770205.0</td>\n",
       "      <td>111.0</td>\n",
       "      <td>Released</td>\n",
       "      <td>Nothing is harder to track than the truth.</td>\n",
       "      <td>Wind River</td>\n",
       "      <td>7.4</td>\n",
       "      <td>181.0</td>\n",
       "      <td>NaN</td>\n",
       "      <td>['Action', 'Crime', 'Mystery', 'Thriller']</td>\n",
       "      <td>['Thunder Road Pictures', 'Star Thrower Entert...</td>\n",
       "      <td>['United Kingdom', 'United States of America',...</td>\n",
       "      <td>['English']</td>\n",
       "      <td>2017</td>\n",
       "      <td>16.797291</td>\n",
       "    </tr>\n",
       "    <tr>\n",
       "      <th>42044</th>\n",
       "      <td>34000000</td>\n",
       "      <td>407448</td>\n",
       "      <td>en</td>\n",
       "      <td>A police raid in Detroit in 1967 results in on...</td>\n",
       "      <td>9.797505</td>\n",
       "      <td>2017-07-28</td>\n",
       "      <td>0.0</td>\n",
       "      <td>143.0</td>\n",
       "      <td>Released</td>\n",
       "      <td>It's time we knew</td>\n",
       "      <td>Detroit</td>\n",
       "      <td>7.3</td>\n",
       "      <td>67.0</td>\n",
       "      <td>NaN</td>\n",
       "      <td>['Thriller', 'Crime', 'Drama', 'History']</td>\n",
       "      <td>['Metro-Goldwyn-Mayer (MGM)', 'Annapurna Pictu...</td>\n",
       "      <td>['United States of America']</td>\n",
       "      <td>['English']</td>\n",
       "      <td>2017</td>\n",
       "      <td>0.000000</td>\n",
       "    </tr>\n",
       "    <tr>\n",
       "      <th>42084</th>\n",
       "      <td>12000000</td>\n",
       "      <td>24049</td>\n",
       "      <td>ta</td>\n",
       "      <td>Corrupt police and politicians target a comput...</td>\n",
       "      <td>1.323587</td>\n",
       "      <td>2007-06-14</td>\n",
       "      <td>19000000.0</td>\n",
       "      <td>185.0</td>\n",
       "      <td>Released</td>\n",
       "      <td></td>\n",
       "      <td>Sivaji: The Boss</td>\n",
       "      <td>6.9</td>\n",
       "      <td>25.0</td>\n",
       "      <td>NaN</td>\n",
       "      <td>['Action', 'Comedy', 'Drama']</td>\n",
       "      <td>['AVM Productions']</td>\n",
       "      <td>['India']</td>\n",
       "      <td>['தமிழ்', 'తెలుగు']</td>\n",
       "      <td>2007</td>\n",
       "      <td>1.583333</td>\n",
       "    </tr>\n",
       "    <tr>\n",
       "      <th>42101</th>\n",
       "      <td>5402000</td>\n",
       "      <td>277839</td>\n",
       "      <td>fr</td>\n",
       "      <td>Franky and Krimo dream of leaving the grey gri...</td>\n",
       "      <td>5.613875</td>\n",
       "      <td>2016-02-24</td>\n",
       "      <td>0.0</td>\n",
       "      <td>100.0</td>\n",
       "      <td>Released</td>\n",
       "      <td></td>\n",
       "      <td>Good Guys Go to Heaven, Bad Guys Go to Pattaya</td>\n",
       "      <td>5.3</td>\n",
       "      <td>153.0</td>\n",
       "      <td>NaN</td>\n",
       "      <td>['Comedy']</td>\n",
       "      <td>['Mandarin Cinéma']</td>\n",
       "      <td>['France']</td>\n",
       "      <td>['Français']</td>\n",
       "      <td>2016</td>\n",
       "      <td>0.000000</td>\n",
       "    </tr>\n",
       "    <tr>\n",
       "      <th>42178</th>\n",
       "      <td>7500000</td>\n",
       "      <td>39164</td>\n",
       "      <td>en</td>\n",
       "      <td>An American writer goes to a remote Welsh mano...</td>\n",
       "      <td>1.185515</td>\n",
       "      <td>1983-06-17</td>\n",
       "      <td>0.0</td>\n",
       "      <td>100.0</td>\n",
       "      <td>Released</td>\n",
       "      <td></td>\n",
       "      <td>House of the Long Shadows</td>\n",
       "      <td>6.1</td>\n",
       "      <td>18.0</td>\n",
       "      <td>NaN</td>\n",
       "      <td>['Horror', 'Comedy', 'Mystery']</td>\n",
       "      <td>['London-Cannon Films']</td>\n",
       "      <td>['United Kingdom']</td>\n",
       "      <td>['English']</td>\n",
       "      <td>1983</td>\n",
       "      <td>0.000000</td>\n",
       "    </tr>\n",
       "  </tbody>\n",
       "</table>\n",
       "<p>5536 rows × 20 columns</p>\n",
       "</div>"
      ],
      "text/plain": [
       "         budget      id original_language  \\\n",
       "1      65000000    8844                en   \n",
       "3      16000000   31357                en   \n",
       "5      60000000     949                en   \n",
       "6      58000000   11860                en   \n",
       "8      35000000    9091                en   \n",
       "...         ...     ...               ...   \n",
       "42005  11000000  395834                en   \n",
       "42044  34000000  407448                en   \n",
       "42084  12000000   24049                ta   \n",
       "42101   5402000  277839                fr   \n",
       "42178   7500000   39164                en   \n",
       "\n",
       "                                                overview popularity  \\\n",
       "1      When siblings Judy and Peter discover an encha...  17.015539   \n",
       "3      Cheated on, mistreated and stepped on, the wom...   3.859495   \n",
       "5      Obsessive master thief, Neil McCauley leads a ...  17.924927   \n",
       "6      An ugly duckling having undergone a remarkable...   6.677277   \n",
       "8      International action superstar Jean Claude Van...    5.23158   \n",
       "...                                                  ...        ...   \n",
       "42005  An FBI agent teams with the town's veteran gam...  40.796775   \n",
       "42044  A police raid in Detroit in 1967 results in on...   9.797505   \n",
       "42084  Corrupt police and politicians target a comput...   1.323587   \n",
       "42101  Franky and Krimo dream of leaving the grey gri...   5.613875   \n",
       "42178  An American writer goes to a remote Welsh mano...   1.185515   \n",
       "\n",
       "      release_date      revenue  runtime    status  \\\n",
       "1       1995-12-15  262797249.0    104.0  Released   \n",
       "3       1995-12-22   81452156.0    127.0  Released   \n",
       "5       1995-12-15  187436818.0    170.0  Released   \n",
       "6       1995-12-15          0.0    127.0  Released   \n",
       "8       1995-12-22   64350171.0    106.0  Released   \n",
       "...            ...          ...      ...       ...   \n",
       "42005   2017-08-03  184770205.0    111.0  Released   \n",
       "42044   2017-07-28          0.0    143.0  Released   \n",
       "42084   2007-06-14   19000000.0    185.0  Released   \n",
       "42101   2016-02-24          0.0    100.0  Released   \n",
       "42178   1983-06-17          0.0    100.0  Released   \n",
       "\n",
       "                                                 tagline  \\\n",
       "1              Roll the dice and unleash the excitement!   \n",
       "3      Friends are the people who let you be yourself...   \n",
       "5                               A Los Angeles Crime Saga   \n",
       "6      You are cordially invited to the most surprisi...   \n",
       "8                             Terror goes into overtime.   \n",
       "...                                                  ...   \n",
       "42005         Nothing is harder to track than the truth.   \n",
       "42044                                  It's time we knew   \n",
       "42084                                                      \n",
       "42101                                                      \n",
       "42178                                                      \n",
       "\n",
       "                                                title  vote_average  \\\n",
       "1                                             Jumanji           6.9   \n",
       "3                                   Waiting to Exhale           6.1   \n",
       "5                                                Heat           7.7   \n",
       "6                                             Sabrina           6.2   \n",
       "8                                        Sudden Death           5.5   \n",
       "...                                               ...           ...   \n",
       "42005                                      Wind River           7.4   \n",
       "42044                                         Detroit           7.3   \n",
       "42084                                Sivaji: The Boss           6.9   \n",
       "42101  Good Guys Go to Heaven, Bad Guys Go to Pattaya           5.3   \n",
       "42178                       House of the Long Shadows           6.1   \n",
       "\n",
       "       vote_count collection_name                                 genre_names  \\\n",
       "1          2413.0             NaN          ['Adventure', 'Fantasy', 'Family']   \n",
       "3            34.0             NaN              ['Comedy', 'Drama', 'Romance']   \n",
       "5          1886.0             NaN    ['Action', 'Crime', 'Drama', 'Thriller']   \n",
       "6           141.0             NaN                       ['Comedy', 'Romance']   \n",
       "8           174.0             NaN         ['Action', 'Adventure', 'Thriller']   \n",
       "...           ...             ...                                         ...   \n",
       "42005       181.0             NaN  ['Action', 'Crime', 'Mystery', 'Thriller']   \n",
       "42044        67.0             NaN   ['Thriller', 'Crime', 'Drama', 'History']   \n",
       "42084        25.0             NaN               ['Action', 'Comedy', 'Drama']   \n",
       "42101       153.0             NaN                                  ['Comedy']   \n",
       "42178        18.0             NaN             ['Horror', 'Comedy', 'Mystery']   \n",
       "\n",
       "                              production_companies_names  \\\n",
       "1      ['TriStar Pictures', 'Teitler Film', 'Intersco...   \n",
       "3             ['Twentieth Century Fox Film Corporation']   \n",
       "5      ['Regency Enterprises', 'Forward Pass', 'Warne...   \n",
       "6      ['Paramount Pictures', 'Scott Rudin Production...   \n",
       "8      ['Universal Pictures', 'Imperial Entertainment...   \n",
       "...                                                  ...   \n",
       "42005  ['Thunder Road Pictures', 'Star Thrower Entert...   \n",
       "42044  ['Metro-Goldwyn-Mayer (MGM)', 'Annapurna Pictu...   \n",
       "42084                                ['AVM Productions']   \n",
       "42101                                ['Mandarin Cinéma']   \n",
       "42178                            ['London-Cannon Films']   \n",
       "\n",
       "                              production_countries_names  \\\n",
       "1                           ['United States of America']   \n",
       "3                           ['United States of America']   \n",
       "5                           ['United States of America']   \n",
       "6                ['Germany', 'United States of America']   \n",
       "8                           ['United States of America']   \n",
       "...                                                  ...   \n",
       "42005  ['United Kingdom', 'United States of America',...   \n",
       "42044                       ['United States of America']   \n",
       "42084                                          ['India']   \n",
       "42101                                         ['France']   \n",
       "42178                                 ['United Kingdom']   \n",
       "\n",
       "        spoken_languages_names  release_year     return  \n",
       "1      ['English', 'Français']          1995   4.043035  \n",
       "3                  ['English']          1995   5.090760  \n",
       "5       ['English', 'Español']          1995   3.123947  \n",
       "6      ['Français', 'English']          1995   0.000000  \n",
       "8                  ['English']          1995   1.838576  \n",
       "...                        ...           ...        ...  \n",
       "42005              ['English']          2017  16.797291  \n",
       "42044              ['English']          2017   0.000000  \n",
       "42084      ['தமிழ்', 'తెలుగు']          2007   1.583333  \n",
       "42101             ['Français']          2016   0.000000  \n",
       "42178              ['English']          1983   0.000000  \n",
       "\n",
       "[5536 rows x 20 columns]"
      ]
     },
     "execution_count": 158,
     "metadata": {},
     "output_type": "execute_result"
    }
   ],
   "source": [
    "nulos_collection_name"
   ]
  },
  {
   "cell_type": "markdown",
   "metadata": {},
   "source": [
    "- Al ser una columna poco relevanta, reemplazare los nulos por valor en blanco para no perder el resto de datos"
   ]
  },
  {
   "cell_type": "code",
   "execution_count": 159,
   "metadata": {},
   "outputs": [],
   "source": [
    "df_mov['collection_name'] = df_mov['collection_name'].fillna(\"\")"
   ]
  },
  {
   "cell_type": "code",
   "execution_count": null,
   "metadata": {},
   "outputs": [
    {
     "name": "stdout",
     "output_type": "stream",
     "text": [
      "<class 'pandas.core.frame.DataFrame'>\n",
      "Index: 7008 entries, 0 to 42178\n",
      "Data columns (total 20 columns):\n",
      " #   Column                      Non-Null Count  Dtype         \n",
      "---  ------                      --------------  -----         \n",
      " 0   budget                      7008 non-null   int64         \n",
      " 1   id                          7008 non-null   object        \n",
      " 2   original_language           7008 non-null   object        \n",
      " 3   overview                    7008 non-null   object        \n",
      " 4   popularity                  7008 non-null   object        \n",
      " 5   release_date                7008 non-null   datetime64[ns]\n",
      " 6   revenue                     7008 non-null   float64       \n",
      " 7   runtime                     7008 non-null   float64       \n",
      " 8   status                      7008 non-null   object        \n",
      " 9   tagline                     7008 non-null   object        \n",
      " 10  title                       7008 non-null   object        \n",
      " 11  vote_average                7008 non-null   float64       \n",
      " 12  vote_count                  7008 non-null   float64       \n",
      " 13  collection_name             7008 non-null   object        \n",
      " 14  genre_names                 7008 non-null   object        \n",
      " 15  production_companies_names  7008 non-null   object        \n",
      " 16  production_countries_names  7008 non-null   object        \n",
      " 17  spoken_languages_names      7008 non-null   object        \n",
      " 18  release_year                7008 non-null   int64         \n",
      " 19  return                      7008 non-null   float64       \n",
      "dtypes: datetime64[ns](1), float64(5), int64(2), object(12)\n",
      "memory usage: 1.1+ MB\n"
     ]
    }
   ],
   "source": [
    "df_mov.head(3)"
   ]
  },
  {
   "cell_type": "markdown",
   "metadata": {},
   "source": [
    "- \"credits\""
   ]
  },
  {
   "cell_type": "code",
   "execution_count": 161,
   "metadata": {},
   "outputs": [
    {
     "data": {
      "text/html": [
       "<div>\n",
       "<style scoped>\n",
       "    .dataframe tbody tr th:only-of-type {\n",
       "        vertical-align: middle;\n",
       "    }\n",
       "\n",
       "    .dataframe tbody tr th {\n",
       "        vertical-align: top;\n",
       "    }\n",
       "\n",
       "    .dataframe thead th {\n",
       "        text-align: right;\n",
       "    }\n",
       "</style>\n",
       "<table border=\"1\" class=\"dataframe\">\n",
       "  <thead>\n",
       "    <tr style=\"text-align: right;\">\n",
       "      <th></th>\n",
       "      <th>cast</th>\n",
       "      <th>crew</th>\n",
       "      <th>id</th>\n",
       "    </tr>\n",
       "  </thead>\n",
       "  <tbody>\n",
       "    <tr>\n",
       "      <th>0</th>\n",
       "      <td>[{'cast_id': 14, 'character': 'Woody (voice)',...</td>\n",
       "      <td>[{'credit_id': '52fe4284c3a36847f8024f49', 'de...</td>\n",
       "      <td>862</td>\n",
       "    </tr>\n",
       "    <tr>\n",
       "      <th>1</th>\n",
       "      <td>[{'cast_id': 1, 'character': 'Alan Parrish', '...</td>\n",
       "      <td>[{'credit_id': '52fe44bfc3a36847f80a7cd1', 'de...</td>\n",
       "      <td>8844</td>\n",
       "    </tr>\n",
       "    <tr>\n",
       "      <th>2</th>\n",
       "      <td>[{'cast_id': 2, 'character': 'Max Goldman', 'c...</td>\n",
       "      <td>[{'credit_id': '52fe466a9251416c75077a89', 'de...</td>\n",
       "      <td>15602</td>\n",
       "    </tr>\n",
       "    <tr>\n",
       "      <th>3</th>\n",
       "      <td>[{'cast_id': 1, 'character': \"Savannah 'Vannah...</td>\n",
       "      <td>[{'credit_id': '52fe44779251416c91011acb', 'de...</td>\n",
       "      <td>31357</td>\n",
       "    </tr>\n",
       "    <tr>\n",
       "      <th>4</th>\n",
       "      <td>[{'cast_id': 1, 'character': 'George Banks', '...</td>\n",
       "      <td>[{'credit_id': '52fe44959251416c75039ed7', 'de...</td>\n",
       "      <td>11862</td>\n",
       "    </tr>\n",
       "    <tr>\n",
       "      <th>...</th>\n",
       "      <td>...</td>\n",
       "      <td>...</td>\n",
       "      <td>...</td>\n",
       "    </tr>\n",
       "    <tr>\n",
       "      <th>45471</th>\n",
       "      <td>[{'cast_id': 0, 'character': '', 'credit_id': ...</td>\n",
       "      <td>[{'credit_id': '5894a97d925141426c00818c', 'de...</td>\n",
       "      <td>439050</td>\n",
       "    </tr>\n",
       "    <tr>\n",
       "      <th>45472</th>\n",
       "      <td>[{'cast_id': 1002, 'character': 'Sister Angela...</td>\n",
       "      <td>[{'credit_id': '52fe4af1c3a36847f81e9b15', 'de...</td>\n",
       "      <td>111109</td>\n",
       "    </tr>\n",
       "    <tr>\n",
       "      <th>45473</th>\n",
       "      <td>[{'cast_id': 6, 'character': 'Emily Shaw', 'cr...</td>\n",
       "      <td>[{'credit_id': '52fe4776c3a368484e0c8387', 'de...</td>\n",
       "      <td>67758</td>\n",
       "    </tr>\n",
       "    <tr>\n",
       "      <th>45474</th>\n",
       "      <td>[{'cast_id': 2, 'character': '', 'credit_id': ...</td>\n",
       "      <td>[{'credit_id': '533bccebc3a36844cf0011a7', 'de...</td>\n",
       "      <td>227506</td>\n",
       "    </tr>\n",
       "    <tr>\n",
       "      <th>45475</th>\n",
       "      <td>[]</td>\n",
       "      <td>[{'credit_id': '593e676c92514105b702e68e', 'de...</td>\n",
       "      <td>461257</td>\n",
       "    </tr>\n",
       "  </tbody>\n",
       "</table>\n",
       "<p>45476 rows × 3 columns</p>\n",
       "</div>"
      ],
      "text/plain": [
       "                                                    cast  \\\n",
       "0      [{'cast_id': 14, 'character': 'Woody (voice)',...   \n",
       "1      [{'cast_id': 1, 'character': 'Alan Parrish', '...   \n",
       "2      [{'cast_id': 2, 'character': 'Max Goldman', 'c...   \n",
       "3      [{'cast_id': 1, 'character': \"Savannah 'Vannah...   \n",
       "4      [{'cast_id': 1, 'character': 'George Banks', '...   \n",
       "...                                                  ...   \n",
       "45471  [{'cast_id': 0, 'character': '', 'credit_id': ...   \n",
       "45472  [{'cast_id': 1002, 'character': 'Sister Angela...   \n",
       "45473  [{'cast_id': 6, 'character': 'Emily Shaw', 'cr...   \n",
       "45474  [{'cast_id': 2, 'character': '', 'credit_id': ...   \n",
       "45475                                                 []   \n",
       "\n",
       "                                                    crew      id  \n",
       "0      [{'credit_id': '52fe4284c3a36847f8024f49', 'de...     862  \n",
       "1      [{'credit_id': '52fe44bfc3a36847f80a7cd1', 'de...    8844  \n",
       "2      [{'credit_id': '52fe466a9251416c75077a89', 'de...   15602  \n",
       "3      [{'credit_id': '52fe44779251416c91011acb', 'de...   31357  \n",
       "4      [{'credit_id': '52fe44959251416c75039ed7', 'de...   11862  \n",
       "...                                                  ...     ...  \n",
       "45471  [{'credit_id': '5894a97d925141426c00818c', 'de...  439050  \n",
       "45472  [{'credit_id': '52fe4af1c3a36847f81e9b15', 'de...  111109  \n",
       "45473  [{'credit_id': '52fe4776c3a368484e0c8387', 'de...   67758  \n",
       "45474  [{'credit_id': '533bccebc3a36844cf0011a7', 'de...  227506  \n",
       "45475  [{'credit_id': '593e676c92514105b702e68e', 'de...  461257  \n",
       "\n",
       "[45476 rows x 3 columns]"
      ]
     },
     "execution_count": 161,
     "metadata": {},
     "output_type": "execute_result"
    }
   ],
   "source": [
    "df_cre"
   ]
  },
  {
   "cell_type": "code",
   "execution_count": 162,
   "metadata": {},
   "outputs": [
    {
     "data": {
      "text/html": [
       "<div>\n",
       "<style scoped>\n",
       "    .dataframe tbody tr th:only-of-type {\n",
       "        vertical-align: middle;\n",
       "    }\n",
       "\n",
       "    .dataframe tbody tr th {\n",
       "        vertical-align: top;\n",
       "    }\n",
       "\n",
       "    .dataframe thead th {\n",
       "        text-align: right;\n",
       "    }\n",
       "</style>\n",
       "<table border=\"1\" class=\"dataframe\">\n",
       "  <thead>\n",
       "    <tr style=\"text-align: right;\">\n",
       "      <th></th>\n",
       "      <th>cast</th>\n",
       "      <th>crew</th>\n",
       "      <th>id</th>\n",
       "    </tr>\n",
       "  </thead>\n",
       "  <tbody>\n",
       "    <tr>\n",
       "      <th>0</th>\n",
       "      <td>[{'cast_id': 14, 'character': 'Woody (voice)',...</td>\n",
       "      <td>[{'credit_id': '52fe4284c3a36847f8024f49', 'de...</td>\n",
       "      <td>862</td>\n",
       "    </tr>\n",
       "    <tr>\n",
       "      <th>1</th>\n",
       "      <td>[{'cast_id': 1, 'character': 'Alan Parrish', '...</td>\n",
       "      <td>[{'credit_id': '52fe44bfc3a36847f80a7cd1', 'de...</td>\n",
       "      <td>8844</td>\n",
       "    </tr>\n",
       "    <tr>\n",
       "      <th>2</th>\n",
       "      <td>[{'cast_id': 2, 'character': 'Max Goldman', 'c...</td>\n",
       "      <td>[{'credit_id': '52fe466a9251416c75077a89', 'de...</td>\n",
       "      <td>15602</td>\n",
       "    </tr>\n",
       "  </tbody>\n",
       "</table>\n",
       "</div>"
      ],
      "text/plain": [
       "                                                cast  \\\n",
       "0  [{'cast_id': 14, 'character': 'Woody (voice)',...   \n",
       "1  [{'cast_id': 1, 'character': 'Alan Parrish', '...   \n",
       "2  [{'cast_id': 2, 'character': 'Max Goldman', 'c...   \n",
       "\n",
       "                                                crew     id  \n",
       "0  [{'credit_id': '52fe4284c3a36847f8024f49', 'de...    862  \n",
       "1  [{'credit_id': '52fe44bfc3a36847f80a7cd1', 'de...   8844  \n",
       "2  [{'credit_id': '52fe466a9251416c75077a89', 'de...  15602  "
      ]
     },
     "execution_count": 162,
     "metadata": {},
     "output_type": "execute_result"
    }
   ],
   "source": [
    "df_cre.head(3)"
   ]
  },
  {
   "cell_type": "code",
   "execution_count": 163,
   "metadata": {},
   "outputs": [
    {
     "data": {
      "text/plain": [
       "\"[{'cast_id': 14, 'character': 'Woody (voice)', 'credit_id': '52fe4284c3a36847f8024f95', 'gender': 2, 'id': 31, 'name': 'Tom Hanks', 'order': 0, 'profile_path': '/pQFoyx7rp09CJTAb932F2g8Nlho.jpg'}, {'cast_id': 15, 'character': 'Buzz Lightyear (voice)', 'credit_id': '52fe4284c3a36847f8024f99', 'gender': 2, 'id': 12898, 'name': 'Tim Allen', 'order': 1, 'profile_path': '/uX2xVf6pMmPepxnvFWyBtjexzgY.jpg'}, {'cast_id': 16, 'character': 'Mr. Potato Head (voice)', 'credit_id': '52fe4284c3a36847f8024f9d', 'gender': 2, 'id': 7167, 'name': 'Don Rickles', 'order': 2, 'profile_path': '/h5BcaDMPRVLHLDzbQavec4xfSdt.jpg'}, {'cast_id': 17, 'character': 'Slinky Dog (voice)', 'credit_id': '52fe4284c3a36847f8024fa1', 'gender': 2, 'id': 12899, 'name': 'Jim Varney', 'order': 3, 'profile_path': '/eIo2jVVXYgjDtaHoF19Ll9vtW7h.jpg'}, {'cast_id': 18, 'character': 'Rex (voice)', 'credit_id': '52fe4284c3a36847f8024fa5', 'gender': 2, 'id': 12900, 'name': 'Wallace Shawn', 'order': 4, 'profile_path': '/oGE6JqPP2xH4tNORKNqxbNPYi7u.jpg'}, {'cast_id': 19, 'character': 'Hamm (voice)', 'credit_id': '52fe4284c3a36847f8024fa9', 'gender': 2, 'id': 7907, 'name': 'John Ratzenberger', 'order': 5, 'profile_path': '/yGechiKWL6TJDfVE2KPSJYqdMsY.jpg'}, {'cast_id': 20, 'character': 'Bo Peep (voice)', 'credit_id': '52fe4284c3a36847f8024fad', 'gender': 1, 'id': 8873, 'name': 'Annie Potts', 'order': 6, 'profile_path': '/eryXT84RL41jHSJcMy4kS3u9y6w.jpg'}, {'cast_id': 26, 'character': 'Andy (voice)', 'credit_id': '52fe4284c3a36847f8024fc1', 'gender': 0, 'id': 1116442, 'name': 'John Morris', 'order': 7, 'profile_path': '/vYGyvK4LzeaUCoNSHtsuqJUY15M.jpg'}, {'cast_id': 22, 'character': 'Sid (voice)', 'credit_id': '52fe4284c3a36847f8024fb1', 'gender': 2, 'id': 12901, 'name': 'Erik von Detten', 'order': 8, 'profile_path': '/twnF1ZaJ1FUNUuo6xLXwcxjayBE.jpg'}, {'cast_id': 23, 'character': 'Mrs. Davis (voice)', 'credit_id': '52fe4284c3a36847f8024fb5', 'gender': 1, 'id': 12133, 'name': 'Laurie Metcalf', 'order': 9, 'profile_path': '/unMMIT60eoBM2sN2nyR7EZ2BvvD.jpg'}, {'cast_id': 24, 'character': 'Sergeant (voice)', 'credit_id': '52fe4284c3a36847f8024fb9', 'gender': 2, 'id': 8655, 'name': 'R. Lee Ermey', 'order': 10, 'profile_path': '/r8GBqFBjypLUP9VVqDqfZ7wYbSs.jpg'}, {'cast_id': 25, 'character': 'Hannah (voice)', 'credit_id': '52fe4284c3a36847f8024fbd', 'gender': 1, 'id': 12903, 'name': 'Sarah Freeman', 'order': 11, 'profile_path': None}, {'cast_id': 27, 'character': 'TV Announcer (voice)', 'credit_id': '52fe4284c3a36847f8024fc5', 'gender': 2, 'id': 37221, 'name': 'Penn Jillette', 'order': 12, 'profile_path': '/zmAaXUdx12NRsssgHbk1T31j2x9.jpg'}]\""
      ]
     },
     "execution_count": 163,
     "metadata": {},
     "output_type": "execute_result"
    }
   ],
   "source": [
    "df_cre['cast'].iloc[0]"
   ]
  },
  {
   "cell_type": "markdown",
   "metadata": {},
   "source": [
    "- Extraer los actores de cast"
   ]
  },
  {
   "cell_type": "code",
   "execution_count": 164,
   "metadata": {},
   "outputs": [
    {
     "name": "stdout",
     "output_type": "stream",
     "text": [
      "      id                                        actor_names\n",
      "0    862  [Tom Hanks, Tim Allen, Don Rickles, Jim Varney...\n",
      "1   8844  [Robin Williams, Jonathan Hyde, Kirsten Dunst,...\n",
      "2  15602  [Walter Matthau, Jack Lemmon, Ann-Margret, Sop...\n",
      "3  31357  [Whitney Houston, Angela Bassett, Loretta Devi...\n",
      "4  11862  [Steve Martin, Diane Keaton, Martin Short, Kim...\n"
     ]
    }
   ],
   "source": [
    "# Función para extraer nombres del elenco\n",
    "def extract_names(cast_column):\n",
    "    if pd.isna(cast_column):  # Verifica si el valor es NaN\n",
    "        return []\n",
    "    cast_list = ast.literal_eval(cast_column)  # Convierte el texto a lista/diccionario\n",
    "    return [person['name'] for person in cast_list]  # Extrae los nombres\n",
    "\n",
    "# Aplicar la función a la columna 'cast'\n",
    "df_cre['actor_names'] = df_cre['cast'].apply(extract_names)\n",
    "print(df_cre[['id', 'actor_names']].head())  # Muestra IDs y nombres de actores\n",
    "\n",
    "df_cre = df_cre.drop(columns=['cast'])\n"
   ]
  },
  {
   "cell_type": "markdown",
   "metadata": {},
   "source": [
    "- Extraer el director de crew"
   ]
  },
  {
   "cell_type": "code",
   "execution_count": 165,
   "metadata": {},
   "outputs": [
    {
     "name": "stdout",
     "output_type": "stream",
     "text": [
      "      id         director\n",
      "0    862    John Lasseter\n",
      "1   8844     Joe Johnston\n",
      "2  15602    Howard Deutch\n",
      "3  31357  Forest Whitaker\n",
      "4  11862    Charles Shyer\n"
     ]
    }
   ],
   "source": [
    "# Función para extraer el director del equipo\n",
    "def extract_director(crew_column):\n",
    "    if pd.isna(crew_column):  # Verifica si el valor es NaN\n",
    "        return None\n",
    "    crew_list = ast.literal_eval(crew_column)  # Convierte el texto a lista/diccionario\n",
    "    for person in crew_list:\n",
    "        if person['job'] == 'Director':  # Busca el rol de director\n",
    "            return person['name']\n",
    "    return None  # Si no encuentra director\n",
    "\n",
    "# Aplicar la función a la columna 'crew'\n",
    "df_cre['director'] = df_cre['crew'].apply(extract_director)\n",
    "print(df_cre[['id', 'director']].head())  # Muestra IDs y directores\n",
    "\n",
    "df_cre = df_cre.drop(columns=['crew'])\n"
   ]
  },
  {
   "cell_type": "code",
   "execution_count": 166,
   "metadata": {},
   "outputs": [
    {
     "data": {
      "text/html": [
       "<div>\n",
       "<style scoped>\n",
       "    .dataframe tbody tr th:only-of-type {\n",
       "        vertical-align: middle;\n",
       "    }\n",
       "\n",
       "    .dataframe tbody tr th {\n",
       "        vertical-align: top;\n",
       "    }\n",
       "\n",
       "    .dataframe thead th {\n",
       "        text-align: right;\n",
       "    }\n",
       "</style>\n",
       "<table border=\"1\" class=\"dataframe\">\n",
       "  <thead>\n",
       "    <tr style=\"text-align: right;\">\n",
       "      <th></th>\n",
       "      <th>id</th>\n",
       "      <th>actor_names</th>\n",
       "      <th>director</th>\n",
       "    </tr>\n",
       "  </thead>\n",
       "  <tbody>\n",
       "    <tr>\n",
       "      <th>0</th>\n",
       "      <td>862</td>\n",
       "      <td>[Tom Hanks, Tim Allen, Don Rickles, Jim Varney...</td>\n",
       "      <td>John Lasseter</td>\n",
       "    </tr>\n",
       "    <tr>\n",
       "      <th>1</th>\n",
       "      <td>8844</td>\n",
       "      <td>[Robin Williams, Jonathan Hyde, Kirsten Dunst,...</td>\n",
       "      <td>Joe Johnston</td>\n",
       "    </tr>\n",
       "    <tr>\n",
       "      <th>2</th>\n",
       "      <td>15602</td>\n",
       "      <td>[Walter Matthau, Jack Lemmon, Ann-Margret, Sop...</td>\n",
       "      <td>Howard Deutch</td>\n",
       "    </tr>\n",
       "  </tbody>\n",
       "</table>\n",
       "</div>"
      ],
      "text/plain": [
       "      id                                        actor_names       director\n",
       "0    862  [Tom Hanks, Tim Allen, Don Rickles, Jim Varney...  John Lasseter\n",
       "1   8844  [Robin Williams, Jonathan Hyde, Kirsten Dunst,...   Joe Johnston\n",
       "2  15602  [Walter Matthau, Jack Lemmon, Ann-Margret, Sop...  Howard Deutch"
      ]
     },
     "execution_count": 166,
     "metadata": {},
     "output_type": "execute_result"
    }
   ],
   "source": [
    "df_cre.head(3)"
   ]
  },
  {
   "cell_type": "markdown",
   "metadata": {},
   "source": [
    "-------"
   ]
  },
  {
   "cell_type": "markdown",
   "metadata": {},
   "source": [
    "03 CARGA"
   ]
  },
  {
   "cell_type": "code",
   "execution_count": 168,
   "metadata": {},
   "outputs": [
    {
     "name": "stdout",
     "output_type": "stream",
     "text": [
      "<class 'pandas.core.frame.DataFrame'>\n",
      "Index: 7008 entries, 0 to 42178\n",
      "Data columns (total 20 columns):\n",
      " #   Column                      Non-Null Count  Dtype         \n",
      "---  ------                      --------------  -----         \n",
      " 0   budget                      7008 non-null   int64         \n",
      " 1   id                          7008 non-null   object        \n",
      " 2   original_language           7008 non-null   object        \n",
      " 3   overview                    7008 non-null   object        \n",
      " 4   popularity                  7008 non-null   object        \n",
      " 5   release_date                7008 non-null   datetime64[ns]\n",
      " 6   revenue                     7008 non-null   float64       \n",
      " 7   runtime                     7008 non-null   float64       \n",
      " 8   status                      7008 non-null   object        \n",
      " 9   tagline                     7008 non-null   object        \n",
      " 10  title                       7008 non-null   object        \n",
      " 11  vote_average                7008 non-null   float64       \n",
      " 12  vote_count                  7008 non-null   float64       \n",
      " 13  collection_name             7008 non-null   object        \n",
      " 14  genre_names                 7008 non-null   object        \n",
      " 15  production_companies_names  7008 non-null   object        \n",
      " 16  production_countries_names  7008 non-null   object        \n",
      " 17  spoken_languages_names      7008 non-null   object        \n",
      " 18  release_year                7008 non-null   int64         \n",
      " 19  return                      7008 non-null   float64       \n",
      "dtypes: datetime64[ns](1), float64(5), int64(2), object(12)\n",
      "memory usage: 1.1+ MB\n"
     ]
    }
   ],
   "source": [
    "df_mov.info()"
   ]
  },
  {
   "cell_type": "code",
   "execution_count": 87,
   "metadata": {},
   "outputs": [
    {
     "data": {
      "text/html": [
       "<div>\n",
       "<style scoped>\n",
       "    .dataframe tbody tr th:only-of-type {\n",
       "        vertical-align: middle;\n",
       "    }\n",
       "\n",
       "    .dataframe tbody tr th {\n",
       "        vertical-align: top;\n",
       "    }\n",
       "\n",
       "    .dataframe thead th {\n",
       "        text-align: right;\n",
       "    }\n",
       "</style>\n",
       "<table border=\"1\" class=\"dataframe\">\n",
       "  <thead>\n",
       "    <tr style=\"text-align: right;\">\n",
       "      <th></th>\n",
       "      <th>id</th>\n",
       "      <th>actor_names</th>\n",
       "      <th>director</th>\n",
       "    </tr>\n",
       "  </thead>\n",
       "  <tbody>\n",
       "    <tr>\n",
       "      <th>0</th>\n",
       "      <td>862</td>\n",
       "      <td>[Tom Hanks, Tim Allen, Don Rickles, Jim Varney...</td>\n",
       "      <td>John Lasseter</td>\n",
       "    </tr>\n",
       "    <tr>\n",
       "      <th>1</th>\n",
       "      <td>8844</td>\n",
       "      <td>[Robin Williams, Jonathan Hyde, Kirsten Dunst,...</td>\n",
       "      <td>Joe Johnston</td>\n",
       "    </tr>\n",
       "    <tr>\n",
       "      <th>2</th>\n",
       "      <td>15602</td>\n",
       "      <td>[Walter Matthau, Jack Lemmon, Ann-Margret, Sop...</td>\n",
       "      <td>Howard Deutch</td>\n",
       "    </tr>\n",
       "  </tbody>\n",
       "</table>\n",
       "</div>"
      ],
      "text/plain": [
       "      id                                        actor_names       director\n",
       "0    862  [Tom Hanks, Tim Allen, Don Rickles, Jim Varney...  John Lasseter\n",
       "1   8844  [Robin Williams, Jonathan Hyde, Kirsten Dunst,...   Joe Johnston\n",
       "2  15602  [Walter Matthau, Jack Lemmon, Ann-Margret, Sop...  Howard Deutch"
      ]
     },
     "execution_count": 87,
     "metadata": {},
     "output_type": "execute_result"
    }
   ],
   "source": [
    "df_cre.head(3)"
   ]
  },
  {
   "cell_type": "markdown",
   "metadata": {},
   "source": [
    "- Unir ambos dataset, asegurar que ambos id sean de tipo entero"
   ]
  },
  {
   "cell_type": "code",
   "execution_count": 88,
   "metadata": {},
   "outputs": [],
   "source": [
    "df_mov['id'] = df_mov['id'].astype(int)  # Convertir 'id' de df_mov a entero\n",
    "df_cre['id'] = df_cre['id'].astype(int)  # Convertir 'id' de df_cre a entero"
   ]
  },
  {
   "cell_type": "code",
   "execution_count": 89,
   "metadata": {},
   "outputs": [],
   "source": [
    "df_movies = pd.merge(df_mov, df_cre, on='id', how='left')  # 'left' conserva las filas de df_mov"
   ]
  },
  {
   "cell_type": "code",
   "execution_count": 91,
   "metadata": {},
   "outputs": [
    {
     "name": "stdout",
     "output_type": "stream",
     "text": [
      "<class 'pandas.core.frame.DataFrame'>\n",
      "RangeIndex: 7018 entries, 0 to 7017\n",
      "Data columns (total 22 columns):\n",
      " #   Column                      Non-Null Count  Dtype         \n",
      "---  ------                      --------------  -----         \n",
      " 0   budget                      7018 non-null   int64         \n",
      " 1   id                          7018 non-null   int32         \n",
      " 2   original_language           7018 non-null   object        \n",
      " 3   overview                    7018 non-null   object        \n",
      " 4   popularity                  7018 non-null   object        \n",
      " 5   release_date                7018 non-null   datetime64[ns]\n",
      " 6   revenue                     7018 non-null   float64       \n",
      " 7   runtime                     7018 non-null   float64       \n",
      " 8   status                      7018 non-null   object        \n",
      " 9   tagline                     7018 non-null   object        \n",
      " 10  title                       7018 non-null   object        \n",
      " 11  vote_average                7018 non-null   float64       \n",
      " 12  vote_count                  7018 non-null   float64       \n",
      " 13  collection_name             7018 non-null   object        \n",
      " 14  genre_names                 7018 non-null   object        \n",
      " 15  production_companies_names  7018 non-null   object        \n",
      " 16  production_countries_names  7018 non-null   object        \n",
      " 17  spoken_languages_names      7018 non-null   object        \n",
      " 18  release_year                7018 non-null   int64         \n",
      " 19  return                      7018 non-null   float64       \n",
      " 20  actor_names                 7018 non-null   object        \n",
      " 21  director                    7014 non-null   object        \n",
      "dtypes: datetime64[ns](1), float64(5), int32(1), int64(2), object(13)\n",
      "memory usage: 1.2+ MB\n"
     ]
    }
   ],
   "source": [
    "df_movies.info()"
   ]
  },
  {
   "cell_type": "code",
   "execution_count": 93,
   "metadata": {},
   "outputs": [],
   "source": [
    "df_movies.to_csv('movies.csv', index=False)"
   ]
  }
 ],
 "metadata": {
  "kernelspec": {
   "display_name": "Python 3",
   "language": "python",
   "name": "python3"
  },
  "language_info": {
   "codemirror_mode": {
    "name": "ipython",
    "version": 3
   },
   "file_extension": ".py",
   "mimetype": "text/x-python",
   "name": "python",
   "nbconvert_exporter": "python",
   "pygments_lexer": "ipython3",
   "version": "3.11.9"
  }
 },
 "nbformat": 4,
 "nbformat_minor": 2
}
